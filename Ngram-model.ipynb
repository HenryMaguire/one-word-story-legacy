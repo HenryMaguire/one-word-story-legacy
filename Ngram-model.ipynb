{
 "cells": [
  {
   "cell_type": "markdown",
   "metadata": {
    "deletable": true,
    "editable": true
   },
   "source": [
    "# Language Modelling (1/3): N-Gram models"
   ]
  },
  {
   "cell_type": "markdown",
   "metadata": {
    "deletable": true,
    "editable": true
   },
   "source": [
    "TODO:\n",
    "Download stories one by one and append `END_OF_STORY`, `END_OF_CHAPTER`, `END_OF_PARAGRAPH` tags in appropriate places."
   ]
  },
  {
   "cell_type": "markdown",
   "metadata": {
    "deletable": true,
    "editable": true
   },
   "source": [
    "I've scraped every text file on [this page](http://textfiles.com/stories/) and removed newline escape characters. They are random stories written by people of the internet and it amounts to around 12MB of text data. This may not be enough to train a proper model but will do for development purposes."
   ]
  },
  {
   "cell_type": "code",
   "execution_count": 59,
   "metadata": {
    "collapsed": false,
    "deletable": true,
    "editable": true
   },
   "outputs": [
    {
     "name": "stdout",
     "output_type": "stream",
     "text": [
      "es didn't do it much justice . People did read and download the stories and a few of them encouraged me to write more . So I did . The subsequent stories came solely from my imagination except  \" Feqh Galaxy \"  and  \" Galaxy Sei \"  which were both based on games I participated in . \"  <P>  \" Since I was a kid my writing had a lot of room for improvement . Equally funny as the writing itself is the massive imaginary fan base I addressed in almost every story . The first three stories were clearly an attempt to exalt myself since I felt my deserved glory had been stolen . I also wrote a document about trade and economics in the game itself . This was mostly a theoretical document and doesn't have much practical value . In the years after I wrote all this stuff I actually did discover a few tricks beyond the standard 'two empires at different economic levels trade and make money' strategy . Some day I'll write those down . \"  <P>  \" SRE is still one of my favorite online games . Unfortuna\n",
      "\n",
      "*** REMOVING HTML TAGS *** <type 'unicode'> \n",
      "\n",
      "s in the game itself . this was mostly a theoretical document and doesn't have much practical value . in the years after i wrote all this stuff i actually did discover a few tricks beyond the standard 'two empires at different economic levels trade and make money' strategy . some day i'll write those down . \"    \" sre is still one of my favorite online games . unfortunately the author of the game amit patel lost the source code for sre and it never developed farther . one other note: i recently learned that  \" va fan culo puttana \"  the empire name used by a see player who became a character in one of the stories is actually an italian curse phrase . ah yes the ignorance of youth is bliss . \"    filename size description of the textfile  sre01.txt  11278 sre: the saga of the best sre game ever played! by josh renaud sre02.txt  5862 solar realms elite: the true story of the unsung heroes by josh renaud sre03.txt  8555 solar realms elite: ultra's untold story by josh renaud sre04.txt  44\n"
     ]
    },
    {
     "ename": "ValueError",
     "evalue": "substring not found",
     "output_type": "error",
     "traceback": [
      "\u001b[0;31m---------------------------------------------------------------------------\u001b[0m",
      "\u001b[0;31mValueError\u001b[0m                                Traceback (most recent call last)",
      "\u001b[0;32m<ipython-input-59-7bbe7d90b926>\u001b[0m in \u001b[0;36m<module>\u001b[0;34m()\u001b[0m\n\u001b[1;32m     43\u001b[0m \u001b[0;31m#print story_text[10000:12000]\u001b[0m\u001b[0;34m\u001b[0m\u001b[0;34m\u001b[0m\u001b[0m\n\u001b[1;32m     44\u001b[0m \u001b[0;31m#print story_text[100000:105000]\u001b[0m\u001b[0;34m\u001b[0m\u001b[0;34m\u001b[0m\u001b[0m\n\u001b[0;32m---> 45\u001b[0;31m \u001b[0;32mprint\u001b[0m \u001b[0mstory_text\u001b[0m\u001b[0;34m.\u001b[0m\u001b[0mindex\u001b[0m\u001b[0;34m(\u001b[0m\u001b[0;34m'``'\u001b[0m\u001b[0;34m)\u001b[0m\u001b[0;34m\u001b[0m\u001b[0m\n\u001b[0m",
      "\u001b[0;31mValueError\u001b[0m: substring not found"
     ]
    }
   ],
   "source": [
    "from utils import load_obj\n",
    "import nltk\n",
    "\n",
    "story_text = load_obj('raw_stories')\n",
    "\n",
    "\n",
    "from HTMLParser import HTMLParser\n",
    "\n",
    "class MLStripper(HTMLParser):\n",
    "    def __init__(self):\n",
    "        self.reset()\n",
    "        self.fed = []\n",
    "    def handle_data(self, d):\n",
    "        self.fed.append(d)\n",
    "    def get_data(self):\n",
    "        return ''.join(self.fed)\n",
    "\n",
    "def strip_tags(html):\n",
    "    # Stripping html tags\n",
    "    s = MLStripper()\n",
    "    s.feed(html)\n",
    "    return s.get_data()\n",
    "print story_text[2000:3000]\n",
    "\n",
    "def remove_things(text, list_of_things):\n",
    "    for l in list_of_things:\n",
    "        text=text.replace(l, '')\n",
    "    return text\n",
    "\n",
    "story_text = strip_tags(story_text).lower()\n",
    "#story_text = story_text.replace('', '.')\n",
    "story_text = story_text.replace('_', ' _ ')\n",
    "story_text = story_text.replace('..', '...')\n",
    "story_text = story_text.replace(' .', '.')\n",
    "story_text = story_text.replace('. ', ' . ')\n",
    "story_text = story_text.replace(' ,', ',')\n",
    "story_text = story_text.replace(' !', '!')\n",
    "story_text = story_text.replace(' ?', '?')\n",
    "story_text = story_text.replace('\\x00', '')\n",
    "story_text = remove_things(story_text, ['`', '``', '(', ')'])\n",
    "print \"\\n*** REMOVING HTML TAGS *** {} \\n\".format(type(story_text))\n",
    "print story_text[2000:3000]\n",
    "#print story_text[10000:12000]\n",
    "#print story_text[100000:105000]\n",
    "print story_text.index('``')"
   ]
  },
  {
   "cell_type": "markdown",
   "metadata": {
    "deletable": true,
    "editable": true
   },
   "source": [
    "There is some noise to do with titles of stories appearing at the start of each text but there's not much I can do about this.\n",
    "\n",
    "## Getting word statistics\n",
    "\n",
    "Now I'll look at the frequencies of words and think about whether to limit the vocabulary size"
   ]
  },
  {
   "cell_type": "code",
   "execution_count": 57,
   "metadata": {
    "collapsed": false,
    "deletable": true,
    "editable": true
   },
   "outputs": [
    {
     "name": "stdout",
     "output_type": "stream",
     "text": [
      "No backticks found before tokenizing\n",
      "[u't e x t f i l e s stories : tristan farnon filename size description of the textfile at the request of tristan farnon this directory has been removed .', u'this saddens me no end because his stories were truly wonderful .', u\"he 'd post them on the dark side of the moon ae and while there were always interesting files being posted there tristan 's always caused a rush of excitement through the place .\", u\"you could tell he 'd posted one because the system would be really busy .\", u\"tristan 's stories were filled with irony interesting situations and well-written dialogue all pleasant changes from what else you would find .\", u\"they were n't interested in causing destruction or insulting others ; they just entertained .\", u'tristan farnon has gone on to do excellent web-based work on his site leisuretown which continues to display his excellent sense of humor irony characterization and flat-out quality .', u'i give it my highest recommendation .', u\"t e x t f i l e s stories : sre : the solar realms elite stories josh renaud writes `` it 's been 10 years since i first wrote these stories and uploaded them to the file sections of several st .\", u'louis bbses .', u'i was about 13 or 14 years old at the time .', u\"the first three stories sre i-iii were narrative descriptions of an actual game of solar realms elite played on the knight 's armor bbs .\", u\"it really was a great game though these early stories did n't do it much justice .\", u'people did read and download the stories and a few of them encouraged me to write more .', u'so i did .', u'the subsequent stories came solely from my imagination except `` feqh galaxy `` and `` galaxy sei `` which were both based on games i participated in . ``', u'`` since i was a kid my writing had a lot of room for improvement .', u'equally funny as the writing itself is the massive imaginary fan base i addressed in almost every story .', u'the first three stories were clearly an attempt to exalt myself since i felt my deserved glory had been stolen .', u'i also wrote a document about trade and economics in the game itself .', u\"this was mostly a theoretical document and does n't have much practical value .\", u\"in the years after i wrote all this stuff i actually did discover a few tricks beyond the standard 'two empires at different economic levels trade and make money ' strategy .\", u\"some day i 'll write those down . ``\", u'`` sre is still one of my favorite online games .', u'unfortunately the author of the game amit patel lost the source code for sre and it never developed farther .', u'one other note : i recently learned that `` va fan culo puttana `` the empire name used by a see player who became a character in one of the stories is actually an italian curse phrase .', u'ah yes the ignorance of youth is bliss . ``', u'filename size description of the textfile sre01.txt 11278 sre : the saga of the best sre game ever played !', u\"by josh renaud sre02.txt 5862 solar realms elite : the true story of the unsung heroes by josh renaud sre03.txt 8555 solar realms elite : ultra 's untold story by josh renaud sre04.txt 44198 solar realms elite iv : the confrontation by josh renaud sre05.txt 20787 solar realms elite v : the underground by josh renaud sre06.txt 26731 solar realms elite vi : the alliance restored by josh renaud sre07.txt 23597 solar realms elite 7 : petros by josh renaud sre08.txt 33170 solar realms elite viii : kazik by josh renaud sre09.txt 26073 solar realms elite ix : survival of the fittest by josh renaud sre10.txt 25725 solar realms elite x : legacies by josh renaud sre _ feqh.txt 20054 solar realms elite : the feqh galaxy by josh renaud sre _ finl.txt 33158 solar realms elite : the finale by josh renaud sre _ sei.txt 20753 solar realms elite : galaxy sei by josh renaud sretrade.txt 9008 the sre commerce and trade theories by josh renaud srex.txt 37128 solar realms elite : x1 and x2 by josh renaud there are 15 files for a total of 346077 bytes .\", u'this is a shareware trial project it is not `` freeware `` we need your support to continue 100 west by 53 north by jim prentice copyright 1990 jim prentice brandon manitoba canada north of 53 .', u'a magic phrase .', u'spoken mumbled or thought inwardly by thousands of souls venturing northward .', u'an imaginary line shown only on maps and labelled 53 degrees .', u\"it 's presence indicated to highway travellers by road side signs .\", u'a division of territory as distinct in the mind as any international border .', u'if you have not been `` north of 53 `` you have not been north !', u'travellers and writers poets and pilots have contributed to the lore of the north .', u'the rigors of life in the bush are told in tales of man eating mosquitoes of murderous hordes of black flies of the lumps of flesh carried away by the giant bull dog flies .', u'the stories of record breaking trout walleye and pike are legion .', u'there are tales of sights and sounds heard deep in the spruce forests : the crashing of moose tearing through brush and breaking down trees .', u'the drumming of grouse .', u'the incessant hum of insects .', u'the cackling quackery of ducks feeding on quiet ponds and placid bays .', u'once heard the intermittent song of the loon is never forgotten .', u\"it 's voice the signature of authenticity of a northern scene .\", u'if the wildlife in the northern bush land seems different than found elsewhere so is the life of man .', u'it takes a special breed of person to live in the north .', u'the farther one travels the more this becomes apparent .', u'the southerner whether on his first or fiftieth trip north of 53 never really becomes aware of the implications of northern living .', u'generally the owners of `` cottages `` on southern lakes have more amenities at hand for a weekend of `` roughing it `` than most northern dwellers have on a year round basis .', u'the modern cabin on a lake shore near a large metropolitan center is equipped with electric service a telephone paved roads natural gas pipelines and cable television .', u'nearby are services that provide food fuel repairs and entertainment .', u'drivein theaters and fast food chains abound .', u'waterfront businesses have docks built for those arriving by boat to do their shopping laundry or to transfer suitcases from the family car .', u'the local merchants deliver goods to the cabin by road or by water .', u'entrepreneurs make a businesss of servicing and maintaining cabins during the owners absence in the off seasons .', u'most of these `` cottages `` whether on the lake shore or located five well paved streets from the water rival the homes of many city dwellers .', u'these lake side communities although seasonal differ little from the urban living from which they offer escape .', u'look at an average northern community .', u'study and compare the standards with those of urban areas and their nearby lake side retreats .', u'there are no local bus services .', u\"if the car does n't start you either walk or call a taxi .\", u'yes most areas do have a taxi service of one kind or another .', u\"even if it 's a ride in the back of some one 's pick up truck .\", u'mail delivery is unknown .', u'a pleasant stroll in midsummer is contrasted by an ordeal in life threatening conditions during winter .', u'house to house delivery of milk and bread is nonexistent .', u'perhaps newspapers are delivered but it requires a family effort especially in winter .', u'bus rail and scheduled air services to nearby settlements is severely restricted if available at all .', u'many small taxi companies exist because of the large fares collected in the transport of natives to and from the reserves .', u'although diminishing in recent years the bushpilot and charter aircraft still play a large role in northern transportation .', u'the pilots of these small aircraft learn to live with conditions that would keep their southern colleagues on the ground .', u'in summer they fly float equipped aircraft .', u'they are busy hauling trappers fishermen freight fish furs and supplies to and from the reserves fish camps traplines logging areas and small settlements .', u'in the fall when the ice is too thin for skis yet too thick for floats they change the aircraft to wheel equipment .', u'changing to skis when ice conditions permit .', u'winter flying presents problems that most pilots never hear of .', u'temperatures exceeding 40 below zero blowing snow ice crystals and whiteouts .', u'all these challenge the pilot in their daily work .', u'the preheating of engines to coax them to life .', u'the problem of congealed oil in propeller pitch mechanisms and fueling with super cooled gasoline are regular chores .', u'the ski-equipped aircraft must be tied down with ropes that are frozen into holes in the four foot ice .', u'the skis must be lifted or run onto boards or poles to prevent them freezing into the ice .', u'pilots and passengers must wear heavy arctic clothing as few aircraft have cabin heat systems capable of coping with the cold .', u'aircraft batteries are removed at the end of each day of flying to ensure maximum efficiency the next day .', u'wings and engines are covered to stop the ingress of snow and the build up of frost on the flight surfaces .', u'gasoline fueled blow-pots are often carried to provide engine preheat to ensure starting .', u'the oil in these engines gets so thick at minus 40 to 50 degrees that the engine can not be turned .', u'this writer has done chin-ups on the propeller of a coldsoaked cessna which flew the next day after preheating .', u'the northern airports lack any degree of services in comparison to those farther south .', u'fuel is usually available if you can locate the operator .', u'some of the larger communities may have a pay telephone at the airstrip but the normal procedure is to buzz the town on arrival .', u'this lets the people know you are landing and usually someone will head out to the strip to meet you .', u'unless you are a regular customer all transactions for fuel and oil are on a cash basis .', u'cheques are nearly useless in a village without a bank .', u'credit to a stranger is foolhardy .', u'during the grip of winter the snowmobile is the major mode of transport in all but the largest of settlements .', u'in many places that do have roads in winter vehicles are left running 24 hours a day .', u'if allowed to get cold it may take many hours of effort to restart balky engines .', u'most northern residents enjoy the winter months .', u'the change in seasons brings on a change in activities .', u'the boats and motors are stored away with the lawnmowers and garden chairs .', u'the snowmobiles are tuned up ice-fishing shacks are towed onto lakes and rivers .', u'the blades of gas- powered ice augers are sharpened .', u'the fishermen flock to their favorite spots and drill holes through ice up to four feet thick .', u'whether in the comfort of a shack with a woodburning stove glowing in the center or huddled on the ice in the lee of a snowmobile they normally take a good catch .', u'walleye trout pike tullibee and whitefish as well as perch burbot catfish and bass are plentiful .', u'the most popular bait is minnows some use sucker-belly or net bags of trout eggs .', u'others use metal spoons or large bucktail flies lead-headed jigging lures or just snelled hooks .', u'as in summer the best bait is whatever the fish are taking at the time .', u'moose hunting is another favorite sport especially in the colder weather when the moose are on the move for food and warmth .', u'the hunter faces problems similar to the pilot with his equipment .', u'the extreme temperatures require that his snowmachine be kept in top condition if it is to start after a day of hunting .', u'once started it must be dependable .', u'a life and death situation could develop if the machine breaks down while 40 or 50 miles from home .', u'even his rifle requires special care .', u'a bolt covered with heavy grease will freeze solid in the cold .', u'the firing pin may not move when struck by the hammer .', u\"many a moose and bear lived to face another day because a hunter 's weapon failed to operate .\", u'other outdoor activities include cross country skiing snowmobiling and racing dog teams .', u'these sports are included in the many winter festivals held each year .', u'as spring arrives the winter equipment is stored away and once again the boats and motors are brought out .', u'wagers are made on the time and date of the break up of river ice .', u'the snow blowers shovels and skidoo suits are replaced with lawn mowers rakes and bathing suits .', u'the pussy willows blossom .', u'the ducks and geese return from their winter feeding grounds in the southern u.s.a. .', u'the frogs begin to croak and the first battalions of mosquitoes are hatched .', u'from the winter lows of 40 below zero the mercury climbs upward .', u\"the summer highs reach the 90 's sometimes 100 degrees .\", u'a fantastic differential of 140 degrees between seasons .', u'through the seasons day to day life continues .', u'the sport and commercial fishing the trapping and hunting .', u'the road building home construction and landscaping .', u'the pilots fly passengers and freight .', u'they fly patrols on hundreds of miles of hydro-electric transmission lines and forest fire patrols .', u'at regular intervals they carry conservationists doing animal census .', u'they transport tanks of baby fish to restock the lakes .', u'the seriously ill or injured are taken to medical centers by medevac flights .', u'other flights carry fishermen and tourists .', u'prospectors vie with geologists botanists biologists entomologists and surveyors .', u'all use the aircraft to see touch smell measure and record the wonders of the north .', u'the opening day of each hunting or fishing season is heralded by the arrival of recreational vehicles of all types .', u\"trailers and vans motorhomes and 4x4 's arrive daily .\", u'they carry or tow boats and motors bicycles motorcycles and atvs .', u'the `` first-timers `` fill the private and provincial government campgrounds .', u'the more experienced and adventuresome travel logging roads and bush trails to favorite lakes rivers and streams .', u'in town the streets and parking lots are crammed with vehicles and equipment .', u'gasoline food booze and fishing equipment are sold in great quantities .', u'the hotels are full .', u'reservations were made months in advance some were made prior to leaving the year before .', u'for a few short weeks during the prime spring fishing period every available camping spot is occupied .', u'as the summer wears on the sportsmen recede and tourists take their place .', u'the cycle repeats annually .', u'each year a number of travellers arrive in privately owned aircraft .', u'piper cub to beechcraft .', u'taildragger to bizjet .', u'most have been here before to some it is a new experience .', u'to a southern pilot a trip north can be unnerving .', u'accustomed to flying over a network of roads and railroad tracks always in contact with an airport or navigation aid they are seldom prepared for the realities of northern flight .', u'airports are hundreds of miles apart .', u'in most cases there are no roads or railways for navigation .', u'at lower altitudes voice contact with an airport is an exception rather than the rule .', u'flight plans of course are mandatory .', u'map reading is difficult .', u'there are so many lakes many of them the same basic shape that a sharp eye must be kept on the map .', u'for seaplanes the ever present danger of logs rocks and reefs is amplified by the distance from civilization .', u'flights must be carefully planned around suitable refueling facilities .', u'the pilot of a private seaplane is in his own element here .', u'the pleasure of landing on a remote lake its quiet green waters undisturbed by others is indescribable .', u'after securing the aircraft and setting up camp the true beauty of the north can be enjoyed .', u'waters teeming with fish are surrounded by wildlife of all types .', u'the smells of wood smoke and coffee mingling with the sound of fresh fish sizzling in the frypan .', u'the songs of bird life .', u'the cry of the loon .', u'the evening wail of coyotes and wolves .', u'the whistle of wings as ducks geese ravens hawks and eagles travel down the shoreline .', u'on the lakes are the wakes of passing beaver and muskrat .', u\"the occasional warning smack of a beaver 's tail on the water as he senses danger .\", u'the varied hues of trees evergreen and deciduous .', u'the colors of windflowers .', u'the taste of fresh wild strawberries raspberries and blueberries .', u'the excitement of an evening sky dancing with a dazzling display as the aurora borealis appears .', u'the `` northern lights `` are surrounded by stars incredibly brilliant against the black smog free heavens .', u'thoughts in the night ... .', u'lying in your tent you hear rustling noises .', u'a twig snaps .', u'mouse or rabbit !', u'moose or bear !', u'is the food secure !', u'you visualize the food bundle securely tied to a tree branch high above the ground .', u'the wind is rising you can hear small waves breaking on the shore .', u'is the airplane alright !', u'should you go and check it !', u'what will the fishing be like in the morning !', u'will you get another chance to land the big walleye that you lost to day .', u'or a bigger one !', u'a lone mosquito buzzes your ear .', u'somehow he has penetrated the netting of your tent .', u'the cry of a loon is the last thing you hear .', u'you sleep peacefully until the songs of early morning bird life announce the start of a new day .', u'but for the constant buzz-sting-slap of insect warfare you might be in heaven .', u'far to the south your friends and neighbors are also facing a new day .', u'howling dogs .', u'screaming kids .', u'squealing tires .', u'the wail of police and fire sirens .', u'the reek of diesel fumes from passing trucks and busses .', u'telephones jangle and typewriters clatter .', u'the work piles up .', u'dissatisfied customers grumble .', u'the boss looms threateningly .', u'they jostle in line for a bus then for coffee then for lunch .', u'they fight traffic to get home .', u\"the neighbor 's dog has left a deposit on the lawn .\", u\"the children 's toys are cluttering the driveway .\", u'they sit down to a tv dinner and discuss your crazy fishing trip .', u\"the day to day life in the north does have it 's problems ; if you happen to own a car for which there is no local dealer you may have to order parts from hundreds of miles away and have them shipped in by bus or plane .\", u'meanwhile the car sits .', u'the same applies to appliances tools and so on .', u'there may not be a tv repairman in town .', u'you must send the set out for repairs or buy a new one .', u'by mail order of course .', u'providing your community has a tv station to begin with .', u'most northern communities have only one radio station .', u'the cbc .', u'some are augmented by local programming .', u'other services may be difficult to obtain .', u'for example a veterinarian may visit weekly or monthly or not at all .', u'medical facilities are usually present to some extent but any serious illness or injury may require a medevac flight to a distant city .', u'fresh meat and produce become more of a problem in the more remote areas .', u'if road or rail service exists the problem is not too acute .', u'however in many communities the only access is by air .', u'in this event the shipment of perishable commodities is dependant on space available on the aircraft .', u'the subsequent prices reflect the added cost of the product .', u'on the subject of costs heating a home with propane may be five to seven times the cost of natural gas as in southern homes .', u'food gasoline clothing and appliances are considerably more expensive in the north .', u'of course the more remote the location the higher the price .', u'on a trip into the high arctic a few years ago the prices ran like this : hotel bed $ 100.00 per night per man breakfast 2 eggs 2 toast 2 bacon and 2 coffee $ 12.00 avgas $ 7.00 per gallon but then when you are 250 miles north of the arctic circle you expect to pay higher prices .', u'why then do people live in the north !', u'for the natives it is a matter of ancestry .', u'for many whites it is also ancestry .', u'to some they were born there .', u'their parents having moved north for employment reasons .', u'some are transients following construction jobs and other seasonal employment .', u'others working for large corporations or government are transferred north as a job requirement .', u'life in the north is definitely different .', u'a person accustomed to life in a large city may not endure the rigors involved .', u'they give it up and move south .', u'many people such as myself move north for an extended period .', u'in our case it was 10 years .', u'we adapted to the way of life .', u'we enjoyed the hunting and fishing .', u'owning our own aircraft we were able to travel more independently than our neighbors .', u'we enjoyed all the great outdoors had to offer .', u'we learned to adjust to the lack of night life and other amenities .', u'when 10 years had passed and our children were adults we took stock of our situation .', u'we were stuck in a rut .', u'the same rut that most of the townspeople were in .', u'our lives centered around hunting fishing the post office and the tv set .', u'we decided it was a case of moving now or possibly remaining in the north for the rest of our lives .', u'we left in february of 1984 !', u'we miss the delicious fresh fish from cold clear lakes .', u'we miss the taste of thick moose steaks moosemeat sausages fresh smoked lake trout and pancakes with fresh wild blueberries .', u'we miss the freedom afforded by a short flight to a secluded lake shore .', u'the fishing and hunting within 10 miles of our northern home was superb .', u'the friendship and camaraderie of our neighbors was great .', u'we are happy to have had the opportunity to experience northern life .', u'but as we approached the midpoint of our lives we wanted to return to civilization .', u'to pick up where we had left off .', u'to enjoy the supermarkets and shopping malls the fancy restaurants and gourmet foods .', u'we wanted to be closer to the center of things a few hours drive from a major city rather than an all day trip .', u'we returned to old friends and new neighbors .', u'new stores and home mail delivery .', u'lower prices .', u'broader choices .', u'more to do and see .', u'more tv channels .', u'several radio stations and newspapers .', u'we can drive east or west besides north and south .', u'we can dance to live music and eat in restaurants of many nationalities .', u'in short we are back to civilization the end 214 for children : sly fox mr .', u'rabbit sat on his front porch rocking eating a great big carrot and looking . ``', u'looks like sly fox coming down the road `` he said to himself walking to the end of the porch .', u'shading his eyes with his paws he exclaimed `` it is sly fox . ``', u'`` good morning mr .', u'rabbit `` cried sly fox as he walked across the yard . ``', u'good morning `` replied mr .', u'rabbit a slight frown on his face . ``', u\"well `` said sly fox `` as i have n't seen you in so long a time thought i would stop and chat a while . ``\", u'mr .', u'rabbit could not be rude in his own home even to an enemy so he offered sly fox a seat on the porch . ``', u'take a chair `` he said politely .', u'but sly fox did not stay long and as he was leaving he asked : `` mr .', u'rabbit my mother is having a good dinner tonight .', u\"wo n't you mrs .\", u'rabbit and your three little rabs come to dinner with me ! ``', u'oh thought mr .', u'rabbit he knows about my little rabs and wants to take us off to eat us .', u'he pretended to be disappointed as he replied : `` sorry sly fox we have an engagement for today but if you want us we can come tomorrow . ``', u'at this sly fox chuckled inwardly and readily agreed to come for them the next day .', u'wishing mr .', u'rabbit `` good day `` he trotted on down the road toward his home .', u'as soon as he was out of sight mr .', u'rabbit ran into his house and called mrs .', u'rabbit . ``', u'get all our things together `` he said `` and put rubber boots on our little rabs .', u'we have to move quickly to the piney woods across the brook .', u'old sly fox has found our home and will destroy us . ``', u'in no time at all the rabbit family had moved and the little rabs were delighted with their new home .', u'a woodland of towering pines it was the ground covered with pine needles which made a soft carpeting .', u'the wind made music in the pine trees birds sang and the fragrance of flowers filled the air .', u'they found a huge hollow tree where mr .', u'rabbit burrowed deep and made them a cozy home .', u'squirrels had left nuts hidden around in the old tree .', u'owls hooted throughout the night crickets chirped merrily .', u'next morning old sly fox knocked on the door where he had left mr .', u'rabbit .', u'mrs .', u'hedgehog answered the door . ``', u'good morning mrs .', u'hedgehog .', u'is mr .', u'rabbit in ! ``', u'inquired sly fox with a wicked grin and a cunning look in his eyes . ``', u'no `` replied mrs .', u'eedgehog none too cordially . ``', u'the rabbit family moved to parts unknown right after you left yesterday . ``', u'`` ah `` exclaimed old sly fox `` mr .', u'rabbit and family were going to have dinner with me .', u'my mother has planned a real feast .', u\"why do n't you come and enjoy it with us ! ``\", u'`` oh `` replied mrs .', u'hedgehog smacking her lips and thinking of all the goodies `` i have just moved in and there is so much to do !', u'why not let it go until tomorrow ! ``', u'`` do you like nice young grasshoppers ! ``', u'asked sly fox softly . ``', u'do i !', u'nothing so good as tender young grasshoppers `` answered mrs .', u'hedgehog fairly dribbling at the mouth at the thought of such a dainty . ``', u'well `` said sly fox `` we pass a field where there are any number of them .', u'come get in this sack and when i stop in the field we will open the sack and rake in all of them we want .', u'mother will bake them with apples and they will be deilicious ! ``', u'this was too much for greedy mrs .', u'hedgehog to resist so in the sack she went .', u'sly fox with a grin grabbed the sack threw it over his shoulder and trotted toward home .', u'after going a long way mrs .', u'hedgehog became suspicious and cried `` how long before we reach that field of grasshoppers ! ``', u'`` why you silly greedy hedgehog there is no field of grasshoppers for you .', u'i am going to eat you for my dinner .', u\"it 's you with apple dumplings that my mother will bake . ``\", u'every hair on mrs .', u\"hedgehog 's head stood on end with fright .\", u'oh how foolish she had been !', u'her greed had trapped her .', u'if only she had stayed home and straightened her house and cooked her own dinner she would not have been in this sack to be eaten by sly fox .', u'greediness never pays she thought to herself .', u'sly fox became tired and as a slight rain had begun to fall he looked for a dry place to sit down .', u'throwing the sack to the ground and chuckling at the thought of sitting on mrs .', u'hedgehog he dropped heavily upon the sack . ``', u'wow wow ! ``', u'he cried jumping quickly up for mrs .', u'hedgehog shot her sharp quills into him with all her might .', u'sly fox ran to and fro trying to pull out the quills but they had gone too deep .', u'home he ran screaming to his mother .', u'old mother fox threw him over a log and began pulling out the quills at the same time calling to a neighbor fox to bring some honey to put on the places where the quills had been .', u'mrs .', u'hedgehog crawled out of the bag and began walking slowly toward home .', u'she thought to herself that never again would she be so greedy and allow herself to be fooled by sly fox or any one else .', u'meanwhile mr .', u'rabbit and family were living happily in piney woods .', u'the little rabs played on the crystal clear brook that ran through the woods wading sailing little leaf boats and trying to catch the silvery minnows darting here and there .', u'late one evening papa and mama rabbit were sitting before the cozy fire talking .', u'papa rabbit had on his house robe and bedroom slippers reading the newspaper .', u'every now and then he looked over his spectacles lovingly at dainty little mama rabbit dressed in a flowered housecoat and red slippers and knitting little socks for the little rabs . ``', u'sniff !', u'sniff !', u'sniff ! ``', u'came suddenly to their ears . ``', u'sly fox ! ``', u'whispered papa rabbit his face now full of concern and alarm . ``', u'yes `` agreed mama rabbit her voice trembling with fright . ``', u'go cover the little rabs with straw and tell them to be very very quiet `` instructed papa rabbit .', u'mrs .', u'rabbit quickly covered the little rabs and cautioned them to be as quiet as mice .', u'since they were well behaved and obedient little rabs they did just as their mother told them . ``', u'i left my big stick beside the old oak tree `` cried papa rabbit under his breath . ``', u'what shall we do ! ``', u'`` sniff !', u'sniff !', u'sniff ! ``', u'went sly fox again scratching up the earth by the old hollow tree as he began to dig furiously .', u'the poor little rabbit family sat still and frightened their hearts thumping their paws shaking and their eyes bulging with panic .', u'suddenly in the distance they heard the `` toot !', u'toot ! toot ! ``', u'of horns and the `` woof !', u'woof !', u'woof ! ``', u'of barking dogs .', u'papa rabbit whispered `` fox hunters ! ``', u'as his heart gave a bound of relief .', u'nearer and nearer came the baying of the hounds and the music of the horns .', u'old sly fox was so busily digging that he failed to hear at first but suddenly he stopped digging and threw back his ears to listen .', u'then he quickly jumped away from the log where the rabbit family lived and started running .', u'but the hounds were right after him baying loudly with all their might .', u\"the horses ' feet beat out an excited rhythm as the red-coated fox hunters urged them on in the chase .\", u'up hill over the meadows they ran .', u'sly fox was now running for his life but the dogs were getting closer and closer .', u'he jumped across the brook and spied a hole among some bushes .', u'into this he slid and as the dogs went down the side of the stream of water before they jumped across they lost his scent .', u'sly fox quickly ran out of the hole and took off in the opposite direction from the way the dogs were going .', u'he had been so frightened and so near death that he resolved to himself never to bother the rabbit family again .', u'meanwhile when papa rabbit had heard the hounds start the chase he turned to mama rabbit and cried `` safe at last !', u'call our little rabs for prayers of thanksgiving and praise to our father which art in heaven . ``', u'after prayers mama rabbit hustled about making mint tea for her and papa rabbit and hot chocolate piled high with whipped cream for the little rabs .', u'after that time they lived happily among the great whispering pines never bothered by old sly fox .', u'-- beulah murrelle -- -- -- -- -- -- -- -- -- -- -- -- -- -- -- -- -- -- -- -- -- -- -- `` the adventures of lone wolf scientific `` -- -- -- -- -- -- -- -- -- -- -- -- -- -- -- -- -- -- -- -- -- an electronically syndicated series that follows the exploits of two madcap mavens of high-technology .', u'copyright 1991 michy peshota .', u'all rights reserved .', u'may not be distributed without accompanying welcome.lws and episod.lws files .', u\"-- -- -- -- -- -- -- -- -- -- -- - episode # 14 a smart bomb with a language parser > > > s-max attempts to thwart the last words bomb 's language parser but to no avail .\", u'he discovers that program code is often more stubborn than human will. < < by m .', u'peshota `` whoever heard of a smart bomb with a language parser ! ``', u'he heard him grumble .', u'austin watched his wild-haired officemate his bull-like features creased into a scowl hunched over stacks and stacks of thesauruses whipping their pages cursing bitterly . ``', u'only a nudnik programmer would think of making a bomb verbally context-sensitive `` he growled .', u\"earlier in the evening the computer builder had come to him his condescending eyes moist with humility his normally napoleanic upper lip quivering helplessly and begged the hollow-eyed wizard to recode andrew.bas 's guided missile software .\", u'specifically he wanted him to recode it so that the computer would not screech alarms and its screen flash bright red whenever he keyed in at its screen prompt the declaration `` gus farwick is a testosterone-less simp with eel toes for brains ! ``', u\"but as much as the assembly language savant would have liked to become involved in such a worthwhile project he was too preoccupied at the moment with his many neurotic frets especially his fear of the possible return of the ghost of alan turing to his former domicile in austin 's office coat closet to be able to do anything but gape zombie-like into the flourescent-white night air and drool down the front of his checked shirt until eventually the computer builder shuffled away .\", u'still gaping austin could hear him pawing through the section of the thesaurus that listed synonyms for `` testosterone-less simp . ``', u'`` ninnyhead .', u'puddingbrain .', u'knucklenoggin `` he recited in his nasal drone .', u'he laboriously typed them one by one into the guided missile software then groaned as the screen flashed red in response and the alarm bells chimed . ``', u'this is what i get for having familiarized that twit programmer with my entire range of verbal invective `` he grunted flinging open another thesaurus .', u'he raised his head and mused `` maybe if i tried some alternate spellings ... . ``', u'after some thought he typed into the machine `` gees ... farwoook ... is ... a.. .', u'tusktossturoon-mess imp ... wif ... eeeel-tooeys ... 4 ... brains ! ``', u'the computer responded with a long slow gag then flashed its screen red and chimed like a maimed pinball machine .', u'the computer builder slammed his fist on the desk in rage .', u\"tired the assembly language savant nestled his head on the worn ivories of his keyboard and listened to his officemate 's wild futile linguistic manipulations until late in the night .\", u'eventually he fell asleep .', u'in his troubled dreams he thought he saw the flyblown profile of the ghost who dogged him who terrified him day and night with his incessant ravings about long-forgotten computer memory registers the irrepressible ghost of alan turing the father of programming .', u\"turing materialized tweed suit shabby wingtips cobwebbed copy of < > battered bicycle and all in back of the computer builder 's zebra-fur cloaked chair .\", u\"with a devil-may-care glower that was not unlike the computer builder 's own condescending smirk he extended shadowy hands over the latter 's shoulder .\", u\"he took hold of the computer builder 's hanswurst knuckles and with the impassioned vigor of a symphonic conductor guided them into a manic dance across the terminal 's keys .\", u\"the computer builder unaware of the ghost 's presence watched his gamboling hands aghast .\", u'when his finger were finally still lying in an artistically spent twisted heap like the hands of beethoven on the numeric keypad he looked at them in surpise then glanced up at the screen . ``', u'omigod ! ``', u'he gasped . ``', u'i have done it !', u'my genius has won out again !', u\"i have found a way to disable andrew.bas 's kooky language parser ! ``\", u'he smiled with pride at the string of inscrutable algorithms marching across the screen . ``', u'gawd how i wish i could understand what those are `` he clucked typing into the missile software `` testosterone-less simp `` adding `` with eel toes for brains . ``', u\"he pressed 'enter ' and listened closely but heard no warning bells nor did he see the screen flash red .\", u'he smiled `` gus farwick prepare to read your epitaph in the sky . ``', u'the ghost nodded with approval got on his bike and disappeared and the computer builder leaped from his chair and hopped from foot to foot like a wound up harlequin .', u'> > is trouble on the way when dingready & derringdo aerospace demonstrates their latest crop of computer-guided weapons to military nabobs !', u\"find out in the next episode of 'the adventures of lone wolf scientific .\", u\"' < < -- -- -- -- -- -- -- -- -- -- -- -- -- -- -- -- -- -- -- -- -- -- -- `` the adventures of lone wolf scientific `` -- -- -- -- -- -- -- -- -- -- -- -- -- -- -- -- -- -- -- -- -- an electronically syndicated series that follows the exploits of two of the computer industry 's bona fide eccentrics .\", u'copyright 1991 michy peshota .', u'all rights reserved .', u'may not be distributed without accompanying welcome.lws and episod.lws files .', u'-- -- -- -- -- -- -- -- -- -- -- - episode # 16 two guys in a garage > > when the bashful programmer and the high-strung computer builder find themselves without jobs paychecks government security clearances or viable character references they do what any desperate men would do -- they start a high-tech company. < < by m .', u\"peshota as the two former defense workers headed to s-max 's van they reflected on the loss of their jobs their paychecks and their dignity as well as their blasted reputations . ``\", u'i have never been happier `` the computer builder said strolling through the parking garage the fake zebra fur from his computer chair draped over his arm . ``', u'and to think we escaped the whole fiasco without being even made the subject of some lengthy tv mini-series . ``', u'he grunted with glee . ``', u'or a congressional investigation . ``', u'the programmer shuffling behind him his arms full of boxes stuffed with fur dice `` honk if you want complete schematics `` bumper-stickers a plaster bust of john f .', u\"kennedy and all the other effluvium from their former office did n't reply .\", u'he was too stricken with grief at the loss of his first engineering job to speak . ``', u'did i ever tell you how i was once the subject of a congressional investigation ! ``', u's-max continued .', u'andrew.bas wanted to reply that no he had not told him nor was he surprised that the mischievous s-max had been the subject of a congressional investigation but he was too sad to answer . ``', u\"this nudnik congressman thought fer sure that i was the source of a recent spate of computer terrorism in surinam but i was n't .\", u'i was in guyana at the time . ``', u'he grunted innocently . ``', u'i think i read about that in the papers . ``', u'`` you most likely did .', u'i received much fan mail after my verile profile was transmitted over the wire services .', u'although many of the pictures that female correspondents sent of themselves > > did < < appear to have prison numbers on them . ``', u'he grunted again .', u'andrew.bas recalled a newspaper story he had once read about a raggedy computer whiz who had practically taken congress hostage ranting and raving for hours in front of a microphone about various outdated computer architectures .', u'how could he have known that he would one day find himself sharing his office -- and his home even -- with this same goofball !', u'had he known he probably would have foresaken his childhood dream of leading an impeccably logical life and become an art history major instead .', u\"s-max spotted the gloom on the programmer 's face .\", u'he felt sorry for him then realized with a start that this was the very first time he had ever felt sorry for a computer programmer .', u'usually he did not feel sorry for programmers .', u'usually he felt they deserved whatever they got .', u\"but he could n't help thinking of how hard it must have been on the young programmer when the evil and demonic gus farwick had phoned his parents and informed them that their son had programmed a smart bomb to write 'goose farwook sings the big kahuna ' across the sky .\", u\"when farwick had demanded that s-max tell him the truth about who had been the mastermind behind the bomb 's blasphemy the computer builder could n't help it the name 'andrew.bas ' had just slipped from his mouth .\", u\"s-max 's parents on the other hand were not at all surprised when the engineer-manager called to tell them what their socially-challenged offspring had been up to .\", u\"unfortunately farwick had n't believed for a second that andrew.bas was the one most responsible for the bomb that had embarrassed him in front of half of the pentagon 's weapons shopaholics .\", u\"he may flaunt a job title that was appended by the word 'manager ' but he was not stupid .\", u\"not surprisingly s-max 's parents initially denied having ever heard of him .\", u'they even denied that their name was maxwell or that they had ever lived at the same address as anyone with a big nose and an orange and black afro .', u'only when pressed did they admit -- between sobs -- that sherwood franklin maxwell self-proclaimed computer genius was indeed their child .', u'after that they sympathized profusely with his former boss .', u\"they even invited him over to dinner and offered to do whatever they could to help the defense contractor pick up the pieces in the wake of their child 's calamitous employment there .\", u\"as s-max and andrew.bas shoved the boxes full of fur dice and `` honk if you want complete schematics `` bumper stickers into the back of s-max 's dilapidated van the computer builder patted the programmer on the shoulder compassionately . ``\", u'farwick will regret it `` he assured him . ``', u'he will wake up tomorrow and realize what he has done -- that in one flash of blind and ignorant rage he fired his two most whimsical employees .', u'it will forever after that seem to him like nothing but a horrible dream . ``', u\"`` i 'm sure it does already `` andrew.bas said .\", u'they crawled into the front seat .', u'as the computer builder steered the satellite dish-topped van down the steep garage ramp with daredevilish swerves he reflected on what they should do with the rest of their lives . ``', u'we could raise labrador retrievers `` he suggested . ``', u'do you want to build the kennel ! ``', u'`` do you really think one is necessary ! ``', u'the programmer frowned .', u'how he had gotten himself into this mess with such a loonball he would never know .', u\"sometimes he felt his life was being authored by not by fate but a sadistic sitcom writer whose last paying gig was 'the gong show . '\", u's-max continued `` we could go on a lecture tour . ``', u'`` what would we lecture about ! ``', u'`` stuff . ``', u'`` stuff ! ``', u'`` we could simply rail on and on for several hours in an entertaining fashion about things that irk us then pass out floppy disks full of free software afterward . ``', u'`` like you did before congress ! ``', u\"`` very similar but we probably would n't have to quote so much from 'thus spake zarathustra . '\", u'`` `` this sounds like something you could do without my help . ``', u\"`` i think you 're right .\", u\"were we to go on the road together i suspect it would n't be long before i 'd be itching to branch off into a solo career . ``\", u'the programmer looked out the cracked window at the street and sighed .', u's-max rattled on `` we could hire ourselves out as consultants . ``', u'`` what kind of advice would we give ! ``', u'`` we could.. . ``', u'he paused uncertain . ``', u'we could tell people how to play their video games correctly . ``', u'`` and ! ``', u'`` do we have to tell them anything else ! ``', u\"`` if they 're paying us we do . ``\", u\"`` you 're sure about this ! ``\", u'`` certain . ``', u\"`` that 's really too bad . ``\", u's-max swerved around a fireplug in a broad illegal u-turn over a grassy island .', u'both considered the problem in silence stunned by the enormity of it .', u'tentatively the computer builder suggested `` we could start a high-tech company together ! ``', u'`` with you ! ``', u'he bristled `` yes with me .', u\"it 's not like i have n't started high-tech companies lots of times before . ``\", u'`` you have ! ``', u'`` yes i have .', u'all you need is a post office box and one of those little trays that you use to process credit cards .', u\"it 's not that hard . ``\", u'andrew.bas considered .', u\"< > it was n't such a bad idea afterall once he got over the disbelief of the notion of starting a company with someone as capricious as s-max .\", u'they could sell software by mail and maybe some ingenious computer hardware device too if s- max dreamed one up .', u'they could run the business out of their home .', u'no one would ever know it was just a weathered a-frame with fraternity letters on the front rail .', u'they could install a bank of phones in the livingroom and answer the ringing phones crisply and make it sound like their company inhabited a sleek office tower .', u'they could put the computers in the livingroom too .', u'they could work whenever they liked -- late into the night if they wished and take regular breaks to watch `` star trek `` episodes .', u'his eyes widened .', u'he especially liked that part about taking breaks to watch `` star trek `` .', u'his mind reeled with the possibilities . ``', u'do you really think we could ! ``', u'he bubbled finally .', u's-max snorted pompously . ``', u\"like i said i 've started high-tech companies < > of times . ``\", u\"the programmer 's mind was too muddied by grief at the loss of his first job to see things clearly and ask about the outcome of those `` < > of times . ``\", u'instead he brightened and grew enthusiastic about the possibility of going into business with the hardware hacker . ``', u\"but do we have all the stuff we 'd need to start a high-tech company ! ``\", u'he asked . ``', u'look -- `` s-max pointed over his shoulder toward the junk in the back of the van . ``', u'we got a bust of john f .', u'kennedy `` he said referring to the bust of the technology- booster president with the pocket protector pencilled on his chest looking lonely and afraid . ``', u'we got a model of sputnik . ``', u'he pointed to the plastic rocket propped against a pile of boxes . ``', u\"it 's a model of the apollo 11 `` andrew.bas corrected . ``\", u'whatever .', u\"we got a complimentary copy of guided missile software that writes 'goose farwick sings the big kahuna ' in the sky . ``\", u'he pointed to the printouts tangled at the base of the apollo . ``', u'a complimentary copy ! ``', u\"`` well it 's a copy . ``\", u'he grunted not caring to divulge how he had smuggled classified software out of the defense contractor . ``', u'what more do we need ! ``', u'`` a product ! ``', u'he shrugged . ``', u\"that 's hardly as important as having a copy of guided missile software that writes in the sky 'goose farwook sings the big kahuna . '\", u'`` he smirked .', u\"and that 's how it began .\", u'two guys sharing in that most magical moment of modern capitalism : the union of two newly unemployed men and an ill-defined dream .', u'later they would reminisce about this moment -- andrew.bas blaming s-max s-max blaming andrew.bas .', u'at least once the police would be called to break up the scuffle that arose in the course of reminiscence .', u\"but for now it was all silicon and gossamer and fantasies of growing rich enough to get all of s-max 's soldering irons out of hock .\", u'as the two wannabe entrepreneurs roared down the freeway they spoke of technology in brave visionary terms .', u'each attested to the thrill of invention both drew parallels between the number of patents that would be registered in their names and the number of wall street money bins that would bear their famous monograms .', u'andrew.bas recounted the inspiring tale of bill gates who like him had one day been a freckle-nosed squirt writing basic programs in his college dorm room and the next had enough money in his checking account to finance the colonization of little known star systems .', u's-max dreamed about someday having a credit line big enough to wage hostile takeovers of bloated computer manufacturers with nothing but an american express card . ``', u\"since you 're going to be my business partner there 's something i would like you to know about me andrew.bas `` he announced .\", u'the programmer glanced at him with a frightened curiosity not knowing what to expect . ``', u'i would like to share a secret about my inner self `` he said zig-zagging the van from one lane into another on the freeway with a kamikaze abruptness that caused the tires to squeel horns to honk and the satellite dish on top the van to creak and shiver . ``', u'i have never told this to anyone before .', u\"i do n't know why i 'm confiding this now in a mere programmer such as yourself since it 's unlikely you will understand .\", u'you can have no way of empathizing with the primitive desires of a hardware hacker such as myself .', u\"maybe it 's because i still feel guilty about having told gus farwick that you were the one who programmed the bomb to destroy a chicken coop because you considered it the mythic archetype for the design of his intellect -- `` `` i did no such -- ! ``\", u'`` please !', u'do not tarnish the sanctity of this moment with your squeels of innocence .', u'i am about to confide an important secret about myself ! ``', u'the programmer was quiet . ``', u'this is something that must be said something that must be said now before our business plans go any further . ``', u'his voice grew grave . ``', u'without knowing this bit of truth about me you will never understand me or the computers i design you will never understand why i lead the life i do .', u'it is a reality that is at the heart of my technical genius a truth that courses through every fiber of my being like a savage animal instinct . ``', u'he leaned over and whispered `` i have always wanted to buy ibm . ``', u'`` you buy ibm ! ! ``', u'`` yes me wild and impossible as it may seem . ``', u'`` i would have never guessed it . ``', u\"`` it 's true !\", u'often i lay away at night dreaming of how i would refurbish their entire line of silly computers by adding super-cooled circuits gallium arsenide chips parallel processing game ports 300-key keyboards and built-in soft-serve ice-cream makers . ``', u'he grunted blissfully . ``', u\"of course i would also put an end to their employees ' unnatural obsession with coordinating the color of their belts with their wallets . ``\", u'with that he turned the van into the driveway of their house and his request that andrew.bas get out and check the ground to make sure that no pieces of his satellite dish had fallen in the driveway appeared to signal the end of the conversation .', u'later that afternoon after they had unpacked the john f .', u'kennedy bust the fuzzy dice the guided missile software the `` honk if you want complete schematics `` bumper stickers the model rocket and all the other flotsam from their office they confronted the cold fact that neither knew exactly what it meant to be incorporated s-max insisted it was a sort legal limbo found only in the state of nevada neither was sure whether customer service was a new age movement or a sign you hang on the john and both were completely baffled as to whether a business proposal was a form you file with the irs or a legal defense you use when your investors try to boot you out .', u\"> > > > in the next episode of `` lone wolf scientific `` coming 11.18.91 dreams of shrinkwrap spun into dollars give way to the harsh realities of starting a computer company when andrew.bas and s-max bicker over who will be the vice president of research and whether moving the computer builder 's dirty socks and old electronics magazines out of the livingroom will inhibit his ability to design innovative products. < < < -- -- -- -- -- -- -- -- -- -- -- -- -- -- -- -- -- -- -- -- -- -- `` the adventures of lone wolf scientific `` -- -- -- -- -- -- -- -- -- -- -- -- -- -- -- -- -- -- -- -- - `` the adventures of lone wolf scientific `` is an electronically syndicated series that follows the exploits of two madcap mavens of high-technology .\", u'copyright 1991 michy peshota .', u'may not be distributed without accompany welcome.lws and episod.lws files .', u'-- -- -- -- -- -- -- -- -- -- -- -- -- -- -- -- -- -- -- -- -- - episode # 17 released 11.18.91 -- -- -- -- -- -- -- -- the early days of a high-tech start-up are magic > > snits over glow-in-the-dark promotional keychains lead to squabbles over who will star in the folksy company founder tv commercials as the programmer and computer builder stumble their way towards self-employment. < < by m .', u\"peshota s-max and andrew.bas 's business venture was barely an hour old and already the high-tech startup in the former fraternity house was rocked by managerial disaccord .\", u'the trouble started when the clamorous s-max announced that he planned to be vice president of research and development . ``', u'but i wanted to be vice president of research and development `` his heartsick partner protested . ``', u'you can be the vice president of marketing `` the computer builder offered magnanimously .', u'he was stretched across the ratty flowered couch he referred to as his `` r and d couch `` grunting and flipping through a magazine for entrepreneurs .', u'heaped around him were enough crumpled electrical schematics to rewire buffalo . ``', u\"but i do n't want to be the vice president of marketing `` moaned andrew.bas pacing the floor tensely his cherubic eyes woefully downcast . ``\", u\"i 'm a software engineer .\", u'i want to be the vice president of research . ``', u\"`` but you already have the title of 'trusty computer programmer ' `` his partner pointed out . ``\", u'yes i know but -- `` `` and remember we agreed to let you put it on a rubber stamp as many times as you like . ``', u'`` yes but -- `` `` we also agreed to let you have the attic all to yourself -- an entire attic in which you can live and work as you see fit . ``', u\"`` yes but you 're also the company president . ``\", u'the computer builder grunted with pride . ``', u\"and the chief executive officer -- `` `` but you see -- `` `` and the chairman of the board the corporate director the chief engineer head of science head of hardware head of intelligence governor-elect of office supplies chief curator of company antiquities and the vice president of fiduciary matters -- although i still ca n't figure out what that is . ``\", u\"`` it 's the person who is in charge of fiducing when the chips are down . ``\", u'`` with all those titles why do you also have to be the vice president of research ! ``', u'`` all those titles is the very reason i should also be the vice president of r and d !', u'< > the one with all the business credentials . ``', u'he rolled over onto his elbow and sniffed . ``', u\"i do n't see why you 're complaining .\", u\"'trusty computer programmer ' will look mighty impressive once it 's printed on a rubber stamp . ``\", u\"`` i 'm not sure if i want my name above the title 'trusty computer programmer ' on the company stationary . ``\", u'`` who said anything about printing your name on the company stationary !', u'you should be grateful that we are printing your name on a rubber stamp . ``', u\"he grunted again in indifference and scrutinized an article titled `` cash flow politics : how to make your expense account go further than your business partner 's . ``\", u'eventually the bossy s-max relented and agreed to permit his partner to occupy the much in-demand post of vice president of r and d on alternate monday mornings .', u'he would occupy it the rest of the time .', u'since neither of them cared to be vice president of sales and marketing as both considered anything involving sales or marketing to be as dishonorable a vocation as picting over-priced funeral plots on late-night tv they agreed to take turns in the post on the last friday afternoon of every month -- at least until their computer company got off the ground and it was no longer necessary to have someone in charge of sales or marketing .', u'they did not think it would hurt terribly much if there were no vice president of sales and marketing the rest of the month .', u'once the problem of job titles was finally resolved the entrepreneurs proceeded to discuss a more touchy topic .', u'that was the 400000 glow-in-the-dark keychains that s-max had ordered .', u'he planned to emboss them with their company name and motto -- although they had no idea what those were yet -- and give them away as promotional prizes at computer trade shows demolition derbys and anyplace else where they might pass out things and not be arrested for loitering .', u'when andrew.bas questioned whether such an expenditure was wise or necessary especially since they lacked the money to even have call-waiting installed on the phone the computer builder bristled . ``', u\"let 's be realistic `` he huffed a suggestion which caused the increasingly anxiety-filled programmer to squirm with disbelief . ``\", u'the keychains will help us get venture capital .', u'a couple glow-in-the-dark keychains and a few < > ballpoint pens and you can impress the hell out of just about anyone . ``', u'the programmer reflected . ``', u\"i do n't think we should be signing multi-billion dollar software contracts with < > pens if we plan to do all our programming in c `` he said finally . ``\", u'< > a very nice programming language but -- `` `` who said anything about < > signing contracts ! ``', u'his partner gasped . ``', u'that is my job as chairman of the board chief engineer head of science head of hardware head of intelligence and whatnot . ``', u'he added `` trusty computer programmers like yourself are not yet recognized as having legal rights in any of 47 states .', u'i am shocked they did not teach you about that in software school . ``', u\"somehow the squabble over who would be signing the multi-billion dollar software contracts evolved into bickering over who would get to hold their product in front of the camera when they filmed tv commercials that featured their company 's folksy founders . ``\", u\"but i 'm the one with the highly photogenic tie-clip that doubles as a light pen ! ``\", u'the computer builder wailed until andrew.bas finally threw up his hands and told him that he could star in the folksy founder commercials all by himself .', u'he sighed with deep relief . ``', u'i am < > glad you finally saw reason `` he said . ``', u'you have restored my faith in the viability of our partnership .', u'a pimply squirt like yourself would only remind tv viewers of their own grievous mental deficiencies by churning up horrific memories of their high school pre-calculus class in which pipsqueeks like you always seemed to thrive and excel while the rest of the class was reduced to helpless pulpy mounts of mental confusion and resolved to become economists or tv sportscasters instead of mathematical geniuses like you or i . ``', u'he grunted . ``', u'viewers can much better identify with a guy like me who is not only classy and articulate but has a crooked nose and a large collection of screwdrivers in his pockets . ``', u'he cocked his orange-and-black bushy head in pride . ``', u\"i would n't be so sure `` the programmer scoffed . ``\", u'the same effect can be obtained by wearing a plastic nose and glasses . ``', u'with that the programmer and computer builder called a truce and decided to spend the rest of the day re-arranging the furniture in their livingroom to make it look more like an office .', u\"there was n't much furniture to arrange .\", u\"there was just a file cabinet a wall calendar and s-max 's wartorn r and d couch .\", u\"the computer builder 's electric tuba had previously been relocated to the bathroom to serve as an extra-large clothes hamper .\", u\"but within minutes their interior decorating efforts had erupted in shouting stomping of feet and a cross-fire of epithets and aspersions upon each other 's character . ``\", u'this is tyranny i tell you ! ``', u'the computer builder had screamed as the programmed dragged his research couch across the room . ``', u'how can i be expected to do major research work when my trusty research and development couch is not sitting next to a pile of wadded up engineering magazines and socks ! ! ``', u'he gesticulated in despair toward the pile of debris that the programmer had swept out onto the front porch . ``', u'maybe we could stack it into neat piles ! ``', u'andrew.bas picked up the broom and headed toward the pile of junk . ``', u'no !', u\"do n't touch those things !\", u'leave them there ! ``', u's- max dashed toward the pile to save it . ``', u'take a broom to it and within minutes weeks of my research efforts will be lost for all eternity !', u'western civilization may never recover .', u'technological progress may be set back millions of years .', u'already you have destroyed countless months of research simply by pushing my magazines and socks out on the porch . ``', u'`` maybe we could put them in the file cabinet ! ``', u'andrew.bas suggested tipping his head toward the dented rust-splotched receptacle . ``', u'what are you suggesting -- that we jam my research into three squeeky wobbly drawers !', u'you heathen ! ``', u'when andrew.bas attempted to pin over the r and d couch the wall calendar that they had gotten free at the office supply store s-max gasped `` nothing but electronics posters are supposed to go over a research couch !', u'anything is a desecration ! ``', u'and when andrew.bas tried to push the file cabinet to the side of the livingroom opposite the couch s- max wailed `` no no !', u\"ca n't you see how you are breaking up a matched set !\", u'i told you how i found them both in the same alley ! ``', u'and he dragged the couch after him .', u'and so it went into the night .', u\"as the programmer pushed the r and d couch to one side of the livingroom the computer builder dragged the file cabinet after him and when the programmer pushed the file cabinet into the corner s-max shoved the r and d couch beside it and after andrew.bas arranged them both by the window s-max pulled them away from the window arguing that the sun would fade the couch 's already-faded chinz .\", u'their bickering voices could be heard all down the street prompting many of their neighbors to reminisce about how peaceful the street had been when their neighbor was a fraternity and not a high-tech company .', u'> > in the next episode of the adventures of lone wolf scientific after a long night of high-decibel parrying over how to arrange the office furniture lone wolf scientific is visited by an irate neighbor. < < -- -- -- -- -- -- -- -- -- -- -- -- -- -- -- -- -- -- -- -- -- -- `` the adventures of lone wolf scientific `` -- -- -- -- -- -- -- -- -- -- -- -- -- -- -- -- -- -- -- -- - `` the adventures of lone wolf scientific `` is an electronically syndicated series that follows the exploits of two madcap mavens of high-technology .', u'copyright 1991 michy peshota .', u'may not be distributed without accompany welcome.lws and episod.lws files .', u'-- -- -- -- -- -- -- -- -- -- -- -- -- -- -- -- -- -- -- -- -- - episode # 18 released 12.9.91 -- -- -- -- -- -- -- -- the couch the file cabinet and the calendar > > after a long night of bickering over how to arrange the office furniture the new high-tech startup company is visited by a neighbor. < < by m .', u\"peshota dawn 's dauntless talons were making their first tentative poke through the cracked windows of the former fraternity house where the two entrepreneurs had argued the night away when there came a pounding on the front door .\", u'it was loud and not at all hospitable sounding . ``', u'it is no doubt the furniture police come to arrest you for your appallingly bad taste in the arrangement of office furniture `` the computer builder grumped as he stalked to the door . ``', u\"it 's not my fault that no matter where we push your precious research and development couch it causes the floor to buckle and sag . ``\", u\"the programmer cowered on top the file cabinet peering cautiously over a pillow he grasped in front of him like a warrior 's shield .\", u'he clenched in one hand as tightly as if it were a sacred parchment a calendar topped by a photo of a giant staplegun in front of a sunset . ``', u'oh no !', u\"and i suppose it 's not your fault that the free calendar we got at the office supply store clashes wildly with my favorite couch pillow . ``\", u'he flung the door open in disgust .', u'on the other side stood a woman tired- looking duncanesque her arms folded in front of her .', u'her hair looked like she had spent the night tossing awake .', u'her green caftan with its paint smears and splotches along on the hemline looked like she frequently paced the floor among open cans of paint . ``', u'do you know how easy it is to hear your imbecilic bickering all the way over at my house ! ! ``', u'she swept into the livingroom . ``', u'it is not imbecilic bickering ! ``', u'the computer builder huffed . ``', u'i have been fighting like the dickens all night to keep that chintz-swatches-for-brains programmer from pushing my research and development couch into some dusty corner that will not show it off to its best advantage . ``', u'he motioned disparagingly toward the programmer still crouched on the cabinet like a christmas elf holding the cushion in front of him .', u'the woman made a quick examination of the saucer-eyed programmer .', u'the first thing she noticed was that he looked like he was about to cry . ``', u'what have you been doing to him ! ``', u'she demanded . ``', u'nothing i -- `` `` did you kidnap him at a science fair or something ! ``', u'the programmer had lowered the pillow just enough to reveal his plastic pocket protector . ``', u'no ! ``', u\"`` then why does he look like he 's been terrorized ! ``\", u\"`` because he 's my business partner ! ``\", u\"`` i was just trying to keep s-max 's r and d couch out of the line of traffic `` andrew.bas offered in the way of explanation . ``\", u\"and while you 're at it why do n't you also tell her how you suggested that we cover my couch with a blanket so that customers would n't be exposed to the shameful sight of its frayed ruffles and the springs popping from its cushions ! ``\", u'the computer builder snorted . ``', u'as if a working r and d couch is something to be embarrassed about ! ``', u\"`` well you 're the one who wanted to push the file cabinet out on the front porch so that we could be identified from the street as a real business . ``\", u\"`` do n't act so innocent . ``\", u's-max wagged a finger at him . ``', u'< > the one who wanted to put the file cabinet next to my research and development couch no doubt so that customers would assume me to be nothing but cheap clerical help . ``', u'`` i was only trying to keep them together since you insisted the couch and the file cabinet were a matched set . ``', u'`` and they < > a matched set .', u'i told you how i found them both in the same alley ! ``', u'`` gentleman ! ``', u'the woman pleaded . ``', u\"i 'm sure we would n't be having all these arguments if we did n't have so much office furniture to find places for `` andrew.bas said to her .\", u'she glanced around the room bewilderedly . ``', u'all i see is a ripped up couch and dented file cabinet . ``', u\"`` that 's what i mean .\", u\"if we did n't have all this stuff we would n't have be having so many problems . ``\", u\"`` you 've been arguing all night over where to put the couch and where to put the file cabinet ! ``\", u'she asked in amazement . ``', u'well yes `` said andrew.bas . ``', u\"i take it you do n't think that 's normal for new business owners . ``\", u'`` it is all the fault of andrew.bas `` s-max accused pointing to the cub scoutish programmer . ``', u'he is the one with chromosonal deficiencies in the rna strand having to do with the ability to arrange office furniture properly . ``', u'he grunted . ``', u'it is no doubt those same warped rna strands that are responsible for his leading a life of mathematical hooliganism as a computer programmer -- `` before he could finish their visitor pushed aside the big-nosed computer builder and headed to the shabby chinz couch .', u'grabbing one of its ends she dragged it to the window .', u'she tucked beneath its ratty cushions the schematics printouts engineering magazines tools wires and alligator clips that spilled from them .', u'then she collected the dirty throw pillows that lay scattered over the floor like misfired salvos in a war and tossed them one by one into a line on the couch with perfunctory indifference .', u'she motioned to andrew.bas to climb down from the file cabinet and after he did so she pushed it to an empty spot beside the stairs .', u'the programmer nodded approvingly looking around the neatened room .', u'the computer builder gasped `` why this is perfect ! ``', u'he circled the chinz couch surveying it from different angles . ``', u'this is exactly how our office furniture should be arranged .', u'what style !', u'what symmetry ! ``', u\"`` but we still have n't found a place to hang the office calendar `` andrew.bas reminded holding up the calendar .\", u'she snatched it and hung it on a nearby nail on the wall .', u's-max gasped again `` you are a genius !', u\"mario biutto could n't have done a better job .\", u'what decorating house did you say you are with ! ``', u'their neighbor rolled her eyes at the mawkish flattery . ``', u\"i 'm wilma `` she said extending her hand . ``\", u'i live next door .', u\"i 'm a professional painter . ``\", u\"`` and we 're a high-tech company ! ``\", u's-max said proudly pumping her hand . ``', u'i should have known `` said wilma . ``', u'was it your business plans that i heard being shouted at higher and higher decibels all night ! ``', u's-max tossed his furry head . ``', u'we are planning to do nothing less than usher into being the very future of american technology .', u'that is why you heard so much shouting .', u'already we have many exciting plans .', u'we have rented a post office box .', u'we bought $ 20 worth of stamps .', u'we have procurred copies of the phone book for each of us .', u\"we stole forty pounds of 'while you were out ' memo pads from our former ingrateful employer .\", u'we have 700 pounds of confetti .', u'someday very soon you and our other neighbors will watch amazed as the very street we live on becomes the next silicon valley .', u'this house will be its center of course . ``', u'`` mmmm `` the painter said in doubt . ``', u'we were kind of hoping that once the fraternity moved out property values would recover . ``', u'she looked over her two tousled cacaphonous neighbors .', u'the little one with the blond hair and wire-rims wore a white shirt and tie although the shirt was rumpled and the tie was ripped as if it had gotten caught in a door .', u'or maybe the big one had yanked his tie or tried to tie it to a doorknob .', u\"she would n't put it past that one for the big one had black shifting eyes like those of a middle eastern terrorist leader .\", u'he also had a twenty-pound orange and black afro that made him look like a walking fire hazard .', u'above grundgy bluejeans he sported a yellow t-shirt with a faded infinity sign on it .', u'the t- shirt looked like it had had a collision with a pizza .', u'clipped to his belt was a walkie-talkie .', u'both men had plastic identification badges from a nearby military contractor clipped to their shirts .', u'somehow that did not surprise her . ``', u'one of my clients is a computer company `` she said finally .', u'she said this with grim remorse .', u\"when she did n't say any more the big one coaxed eagerly `` please please tell us more ! ``\", u'`` i painted a sign for them `` said wilma . ``', u\"that 's what i do i paint company signs .\", u'but they never picked it up and they never paid the balance .', u\"i still ca n't get over it because i put so much work into that darn thing .\", u'they had me paint a naked woman on it -- `` `` a naked woman ! ``', u'said the computer builder . ``', u'yeah tangled in fanfold computer paper .', u'it was gross .', u'painting it was an incredible amount of work . ``', u'`` fanfold ! ! ``', u'he gasped . ``', u\"i do n't know what a nude wrapped in green paper has to do with computers `` wilma sighed . ``\", u'computer companies are so strange . ``', u'`` do you have any idea what happened to the company ! ``', u'andrew.bas asked . ``', u'they must have gone bankrupt .', u'their phone is disconnected .', u'i -- `` `` can we have the sign ! ! ``', u's-max interrupted . ``', u'no ! ``', u'andrew.bas objected arising from his slouch beside the dented file cabinet . ``', u'we want to be taken seriously s-max .', u'remember !', u'we agreed on that . ``', u'`` but andrew.baaaaass ! ``', u'he wailed . ``', u'think of how much fun it will be building a computer company that has a sign with a nude woman in it . ``', u'his partner frowned . ``', u\"it will be so much more fun than growing a computer company that does n't have a sign with a nude woman in it . ``\", u'`` no ! ``', u'`` please andrew.bas !', u\"ca n't we at least look at the sign ! ``\", u'`` you can have it cheap `` wilma offered .', u'the programmer shuffled his sneakered feet in annoyance .', u\"the last thing he wanted to do was provoke his business partner into jerking him around by his favorite engineer school-logo tie again so he said `` we 'll just look at it o.k . ! ``\", u's-max smirked victoriously .', u\"as they strolled to wilma 's garage where the sign was stored s-max pointed out to the painter the gray rusty van with the satellite dish on top broken down halfway in the driveway halfway in the street . ``\", u'see that lightning bolt zigzagging majestically down its front grill ! ``', u'he smiled . ``', u'you mean that crooked line that looks like someone got hold of a can of yellow paint they use to paint lines on highways and forgot to mix it before spattering it on the grill ! ``', u'said wilma . ``', u\"yes that 's the one .\", u'as you can see it needs a bit of touch up . ``', u'`` it certainly does . ``', u\"`` should you ever find yourself in the middle of the night with a little extra yellow highway paint feel free to come over and -- `` `` it 'll cost ya . ``\", u'the computer builder grunted in indignation at the thought of someone charging him for the privilege of restoring the artwork on his van an honor he considered not uncomparable to being asked to touch up the ceiling of the sistine chapel .', u'he remained moodily silent for the rest of the walk over .', u\"company signs and cans of paint crowded their neighbor 's garage .\", u\"one of the signs standing on its side read `` wayne 's lube jobs . ``\", u\"another one right next to it read `` wayne 's outboard motor repair . ``\", u\"one to the left of it read `` wayne 's used cars `` and one behind it read `` wayne 's shoe repair . ``\", u\"yet another read `` wayne 's barber shop `` and one next to that `` wayne 's shoe repair `` and another `` wayne 's burglar alarms . ``\", u'there were also lots of signs for businesses owned by joes .', u\"there was `` joe 's high-risk insurance `` and `` joe 's balloonarama . ``\", u\"there was `` joe 's plumbing & liquor `` and `` joe 's bankruptcy center . ``\", u\"there was `` joe 's emergency pre-school repair `` `` joe 's creative truck restoration `` and `` joe 's dial-a-water-conditioner- repairman . ``\", u'there were a lot of businesses run by franks too but they tended to be less worldly in spirit than those owned by waynes or joes .', u\"there was `` frank 's hair majesty `` `` frank 's school of wisdom `` and `` frank 's devotional charter service . ``\", u\"there were not many businesses owned by people named archibald or clarence but when there were they were often as stylish sounding as their proprietors ' names .\", u'there was `` nail sculpture by mr .', u\"archibald `` and `` clarence 's school of mail-order litigation . ``\", u'wilma led the way through an aisle of neatly stacked company signs .', u'it was almost like walking through a phone book .', u\"on one side of them in alphabetical order stood `` frank 's devotional charter service `` `` frank 's hair majesty `` and `` frank 's school of wisdom `` while on the other side began the joes .\", u\"taking a left at `` morton 's grub street reading `` they came upon a sign with long runic-style green letters .\", u\"wilma pulled it out from behind `` morton 's grub street . ``\", u\"it read `` dave 's altered states data repair . ``\", u'on it a two-headed woman with sprigs of rhubarb poking from her ears perched kewpie doll-like on a mound of computer printouts .', u'she was naked except for strategic cloakings of computer paper curling from her knees to her eight sets of ears . ``', u\"this was a real challenge to paint `` wilma said pointing to the green sprigs growing from the odalisque 's ears . ``\", u'i must have spent four days getting this rhubarb right .', u\"and since i could n't just go out and hire a model with eight sets of ears i had to clip no less than 16 ears from pictures in fashion magazines and scotch tape them to mrs .\", u\"kliggerty -- you know the old woman who lives on the other side of you you may have already heard about her arthritis i sometime use her as my model assuming her arthritis is n't acting up .\", u\"why the odalisque was supposed to have rhubarb in her ears i do n't know but that 's what the client asked for . ``\", u'she stared at the eight sets of dali-esque ear lobes wistfully . ``', u'computer companies are < > strange `` she said again shaking her head .', u's-max paced back and forth in front of the sign like an art critic .', u\"he stood back and gazed at it rubbing his stubbled chin the way he had seen customers in snookey 's parts shack do when they were examining the fine art prints of integrated circuits hanging on the wall behind the cash register .\", u'he crouched down and tilting his head sideways squinted at it from the level of the floor .', u'with his fingers he formed a frame and squinted through it at the rhubarb woman from different angles .', u'he finally said `` i am in awe of how realistically you have portrayed the crumpled heap of computer paper draped around the nude .', u'i have never seen anything like it .', u'the pale green lines and the holes along the sides of the printouts are so realistic that even i would be unable to distinguish it from computer paper heaped in the corner of my office .', u\"what 's more the way you have the paper jumbled around the nude 's knees in so chaotic a fashion reminds me of many of my own doomed-from-the-start computer projects .\", u'there is verve sassiness style to your rendering of computer paper .', u\"indeed it looks like it 's virtually crying out for someone to come walking through become tangled in it and be sent sprawling -- just like the piles of computer paper in my office . ``\", u'he grunted in approval . ``', u\"then you 'll buy it ! ``\", u'`` well no .', u\"i 'm afraid the way the computer paper is draped around the odalisque is not realistic enough for my tastes . ``\", u'`` huh ! ``', u'`` observe . ``', u\"he pointed to the odalisque 's knees . ``\", u'the way the fanfolds wind from her vericose vein-laden calves all the way up to her crooked neck -- well her two crooked necks .', u\"it 's a known impossibility that a human being can not be wrapped in fanfold computer paper without considerably more folds and creases around the neck than appear here .\", u\"it 's a fact .\", u'considerable research has been done on this .', u'in fact i have often experimented with the phenomenon myself . ``', u'`` well i must admit mrs .', u'kliggerty refused to pose in fanfold computer paper for more than ten minutes at a stretch . ``', u'`` it shows . ``', u\"`` but i 'll give it to you cheap . ``\", u\"`` no i 'm afraid not .\", u\"i would n't be able to live with a company sign whose odalisque is not wrapped in fanfold tractor-feed computer paper with perfect realism .\", u'i would find it a constant irritation like the man who buys an 18th century desk for $ 47000 and must live with the two-by-fours that are propping up its drawers and legs . ``', u'he scanned the sign-stacked garage . ``', u'what else do you have !', u\"his eyes landed on one that read `` joe 's balloonarama . ``\", u'it bore a caricature of a well-known lawyer being hoisted through the clouds tied to a bunch of funny-faced balloons .', u'he headed toward it almost instinctly .', u'before he got to it though he spotted another intriguing sign .', u'that one read `` lone wolf.. . ``', u\"that 's all he could read of it . ``\", u'lone wolf.. . ``', u'and the picture of a slot machine .', u\"the sign was jammed behind `` joe 's bankruptcy center `` and `` frank 's devotional charter service . ``\", u'he pointed to it . ``', u'lone wolves ! ``', u\"`` yeah i 'd certainly call them that `` wilma said .\", u\"she walked over and dislodged the sign from its embrace with the `` joe 's bankruptcy center `` one . ``\", u'they never paid me either . ``', u'`` lone wolves are what we are `` s-max said holding up one finger rhetorically striking a melodramatic pose . ``', u'howling hounds in the high-tech wilderness lonesome mavericks devil-eyed desperados unfettered by reason unchained by civility outlaws whose very dreams are new and savage whose imaginations make the timid whelp with fear -- `` `` and who prefer their odalisques wrapped in tractor- feed paper with perfect realism `` the bemused programmer quipped .', u's-max shot him a look of irritation murderous in its glower . ``', u'i can sell you the sign real cheap `` wilma said pleased at the thought of a sale .', u'she pulled it from the stack .', u'the full sign read `` lone wolf slot machines . ``', u's-max took a step backward to scrutinize it from a distance . ``', u'< > ! ``', u'he said .', u'he knit his thick brows . ``', u'we may have to change that `` he said . ``', u\"well i do n't see why `` said andrew.bas . ``\", u'we can just hang it over those contraptions with all the parts in the zip-lock bags you sell through ads in the back of magazines . ``', u'he was now trying to suppress an impish chuckle .', u'the computer builder ignored his impudent companion . ``', u\"sometimes the magic works sometimes it does n't `` he read off the sign .\", u\"smiling he turned to andrew.bas and said `` how apt would n't you say !\", u'this is it ! ``', u'he waved his arms in jubilation . ``', u'we have found a sign for our company !', u'and a motto too !', u\"sometimes the magic works sometimes it wo n't .\", u\"it 's a perfect company motto ! ``\", u\"to wilma he said `` we can buy it ca n't we ! ``\", u'she nodded . ``', u'lone wolf slot machines rolled three- bananas right after i sent them the bill . ``', u'`` lone wolf slot machines ! ``', u'andrew.bas moaned his elfin face screwing into distress as he viewed the sign .', u'it had purple old english letters too . ``', u'tsk tsk `` the computer builder said circling it with growing admiration . ``', u'we can change the slot machines part to something more appropriate .', u'like lone wolf voltage concepts maybe . ``', u'the programmer groaned . ``', u'or maybe lone wolf big visions of tomorrow .', u'i like that . ``', u'andrew.bas shook his head as vigorously as he could . ``', u'or lone wolf mip fantasies .', u\"now what 's wrong with that ! ``\", u\"their neighbor pointed to the 'slot machines ' part of the sign . ``\", u\"there 's just enough room to paint over 'slot machines ' 'scientific . '\", u\"how 'bout that !\", u\"what 's wrong with lone wolf scientific !\", u\"we would n't even have to change the 's ' . ``\", u\"`` let 's do it ! ``\", u's-max jabbed a fist in the air .', u'andrew.bas sighed . ``', u\"now what 's wrong !\", u\"we could n't have found a sign that 's more perfectly flawed for our needs .\", u'look . ``', u'the computer builder pointed to the purple slot machine painted in the bottom corner of the sign . ``', u\"we do n't even have to paint over that .\", u\"we can turn it into a computer simply by painting over the slot machine 's arm and adding a keyboard where the money is supposed to fall out . ``\", u'the programmer gazed at his sneakers sadly . ``', u\"is n't that right wilma ! ``\", u'she nodded . ``', u\"and we do n't even have to change the apples oranges and bananas on the slot machine 's screen either .\", u\"we can leave them there and just let people think it 's a software error message or sumthin ' . ``\", u'andrew.bas shook his head . ``', u\"i do n't like the 'sometimes the magic works sometimes it does n't ' part . ``\", u\"`` what 's wrong with that !\", u'that can be our company motto .', u'it will be perfect . ``', u'`` our company motto ! ``', u'`` yes .', u\"we can print it on product boxes we can print it on our product 's manuals we can print it on our business cards we can emblazon it across our stationary and it can serve double duty as a company motto and a product liability disclaimer when someone tries to sue us for whiplash or something . ``\"]\n",
      "There are 59987 words in the full vocabulary.\n",
      "There are 26822 hapax legomenon.\n",
      "Vocab size of 10000 restricts to 16.67 percent of total vocab.\n",
      "Percentage of whole corpus covered by vocab: 94.59\n",
      "***  SEQUENCE STATS ***\n",
      "Min: 1  Max: 574  Mean: 14.69   Median: 12.0   Mode: 6   1st Quart.: 7.0   IQR: 12.0   3rd Quart.: 19.0\n"
     ]
    }
   ],
   "source": [
    "try:\n",
    "    print story_text.index('``')\n",
    "except:\n",
    "    print \"No backticks found before tokenizing\"\n",
    "import nltk\n",
    "from utils import sequence_stats\n",
    "# Splits up text into sentences (accounts for ! and ?)\n",
    "sent_text = nltk.sent_tokenize(story_text) \n",
    "# Splits up sequences into tokens\n",
    "tok_text = [nltk.word_tokenize(w) for w in sent_text] \n",
    "\n",
    "text =[' '.join(s) for s in tok_text]\n",
    "print text[0:1000]\n",
    "flat = []\n",
    "for s in tok_text:\n",
    "    flat+=s\n",
    "\n",
    "freq = nltk.FreqDist(flat)\n",
    "\n",
    "def covered_with_vocab(freq_dist, vocab_size):\n",
    "    total_words = len(freq_dist.keys())\n",
    "    print \"There are {} words in the full vocabulary.\".format(total_words)\n",
    "    total_length = sum(freq_dist.values())\n",
    "    print \"There are {} hapax legomenon.\".format(len(freq_dist.hapaxes()))\n",
    "    print \"Vocab size of {} restricts to {:0.2f} percent of total vocab.\".format(\n",
    "                                                vocab_size, 100*(float(vocab_size)/total_words))\n",
    "    vocab = dict(freq_dist.most_common(vocab_size))\n",
    "    #print \"vocab size= \",len(vocab.keys())\n",
    "    covered_with_vocab = sum(vocab.values()) # Total of frequencies\n",
    "    print \"Percentage of whole corpus covered by vocab: {:0.2f}\".format(\n",
    "                                                    100*(covered_with_vocab/float(total_length)))\n",
    "\n",
    "covered_with_vocab(freq, 10000)\n",
    "sequence_stats(tok_text)\n"
   ]
  },
  {
   "cell_type": "code",
   "execution_count": 39,
   "metadata": {
    "collapsed": false,
    "deletable": true,
    "editable": true
   },
   "outputs": [
    {
     "name": "stdout",
     "output_type": "stream",
     "text": [
      "There are 59987 words in the full vocabulary.\n",
      "There are 26822 hapax legomenon.\n",
      "Vocab size of 18253 restricts to 30.43 percent of total vocab.\n",
      "Percentage of whole corpus covered by vocab: 97.20\n"
     ]
    }
   ],
   "source": [
    "\n",
    "SOS_ID = 3\n",
    "UNK_ID = 2\n",
    "EOS_ID = 1\n",
    "PAD_ID = 0\n",
    "static_IDs = [SOS_ID, UNK_ID, EOS_ID, PAD_ID]\n",
    "def word_to_ids(freq_dist, vocab_size):\n",
    "    #vocab = dict(freq_dist.most_common(vocab_size))\n",
    "    s = sorted(freq_dist.most_common(vocab_size), key=lambda x: x[1], reverse=True)\n",
    "    # Remove word from vocab if it occurs fewer than 4 times\n",
    "    vocab = [w for w, i in s if i >4]\n",
    "    \n",
    "    #vocab = zip(*)\n",
    "    vocab_size = len(vocab)\n",
    "    # IDs begin at 4 because <EOS>=1, <UNK>=2 and <SOS>=3\n",
    "    word_to_ids = dict([(word, i+max(static_IDs)+1) for i, word in enumerate(vocab)])\n",
    "    word_to_ids[u'<SOS>'] = SOS_ID\n",
    "    word_to_ids[u'<UNK>'] = UNK_ID\n",
    "    word_to_ids[u'<EOS>'] = EOS_ID\n",
    "    word_to_ids[u'<PAD>'] = PAD_ID\n",
    "    id_to_words = dict((idx, word) for word, idx in word_to_ids.items())\n",
    "    return word_to_ids, id_to_words, vocab_size\n",
    "\n",
    "word2id, id2word, vocab_size = word_to_ids(freq, 40000)\n",
    "covered_with_vocab(freq, vocab_size)"
   ]
  },
  {
   "cell_type": "code",
   "execution_count": 40,
   "metadata": {
    "collapsed": false,
    "deletable": true,
    "editable": true
   },
   "outputs": [
    {
     "name": "stdout",
     "output_type": "stream",
     "text": [
      "149\n"
     ]
    }
   ],
   "source": [
    "stopp = [w for w in word2id.keys() if '.' in w]\n",
    "print len(stopp)"
   ]
  },
  {
   "cell_type": "code",
   "execution_count": 41,
   "metadata": {
    "collapsed": false,
    "deletable": true,
    "editable": true
   },
   "outputs": [
    {
     "name": "stdout",
     "output_type": "stream",
     "text": [
      "6\n"
     ]
    }
   ],
   "source": [
    "print word2id['``']"
   ]
  },
  {
   "cell_type": "code",
   "execution_count": 25,
   "metadata": {
    "collapsed": false,
    "deletable": true,
    "editable": true
   },
   "outputs": [
    {
     "name": "stdout",
     "output_type": "stream",
     "text": [
      "160783\n"
     ]
    }
   ],
   "source": [
    "print len(tok_text)"
   ]
  },
  {
   "cell_type": "markdown",
   "metadata": {
    "deletable": true,
    "editable": true
   },
   "source": [
    "## Swapping words for IDs\n",
    "\n",
    "Now I go through the text and swap out the words for the ID integers."
   ]
  },
  {
   "cell_type": "code",
   "execution_count": 26,
   "metadata": {
    "collapsed": false,
    "deletable": true,
    "editable": true
   },
   "outputs": [
    {
     "name": "stdout",
     "output_type": "stream",
     "text": [
      "Replacing words with IDs took 245.14815402 seconds.\n"
     ]
    }
   ],
   "source": [
    "from multiprocessing import Pool\n",
    "import time\n",
    "from functools import partial\n",
    "def replace_id_func(sequence, **kwargs):\n",
    "    # Parallelisable version of word to ID replacer\n",
    "    word2id=kwargs['wtid']\n",
    "    ids_sent = [] # sentence with words replaced by ids\n",
    "    sequence = [u'<SOS>']+sequence+[u'<EOS>']\n",
    "    for token in sequence:\n",
    "        if token not in word2id.keys():\n",
    "            if token == u'<EOS>':\n",
    "                ids_sent.append(1)\n",
    "            else:\n",
    "                ids_sent.append(2)\n",
    "        else:\n",
    "            ids_sent.append(word2id[token])\n",
    "    return ids_sent\n",
    "\n",
    "def replace_with_word_id(text, wtid):\n",
    "    '''\n",
    "    take the list of lists, find FreqDist, replace any\n",
    "    out of vocabulary words with <UNK> whilst giving each\n",
    "    token a numerical ID, return new list of lists'''\n",
    "    ti = time.time()\n",
    "    prep_text = []\n",
    "    pool = Pool(processes = 3)\n",
    "    kwargs = {'wtid': wtid}\n",
    "    # Parallelise process, set buffer size to restrict memory usage\n",
    "    id_text = [i for i in pool.imap(partial(replace_id_func, **kwargs), text, chunksize=30000)]\n",
    "    print \"Replacing words with IDs took {} seconds.\".format(time.time()-ti)\n",
    "    return id_text\n",
    "\n",
    "text_ids = replace_with_word_id(tok_text[0:60000], word2id)"
   ]
  },
  {
   "cell_type": "code",
   "execution_count": 6,
   "metadata": {
    "collapsed": false,
    "deletable": true,
    "editable": true
   },
   "outputs": [],
   "source": [
    "from utils import load_obj\n",
    "data_dic = load_obj('data_dic')\n",
    "X_train = data_dic['X_train']\n",
    "y_train = data_dic['y_train']\n",
    "word2id = data_dic['word2id']\n",
    "id2word = data_dic['id2word']"
   ]
  },
  {
   "cell_type": "markdown",
   "metadata": {
    "deletable": true,
    "editable": true
   },
   "source": [
    "Now we can calculate the unigram conditional probability distributions to answer the question: \"which words are likely to come after the current word?\""
   ]
  },
  {
   "cell_type": "code",
   "execution_count": 98,
   "metadata": {
    "collapsed": false,
    "deletable": true,
    "editable": true
   },
   "outputs": [
    {
     "name": "stdout",
     "output_type": "stream",
     "text": [
      "Calculating Unigram probabilities took 4.41074371338e-05 seconds.\n",
      "EXPECTED = {2: {5: 1.0}, 5: {6: 1.0}, 6: {7: 1.0}, 7: {8: 1.0}, 8: {9: 1.0}, 9: {3: 1.0}}\n",
      "ACTUALS = {2: {5: 1.0}, 5: {6: 1.0}, 6: {7: 1.0}, 7: {8: 1.0}, 8: {9: 1.0}, 9: {3: 1.0}}\n",
      "2 {5: 1.0} {5: 1.0}\n",
      "5 {6: 1.0} {6: 1.0}\n",
      "6 {7: 1.0} {7: 1.0}\n",
      "7 {8: 1.0} {8: 1.0}\n",
      "8 {9: 1.0} {9: 1.0}\n",
      "9 {3: 1.0} {3: 1.0}\n"
     ]
    }
   ],
   "source": [
    "import time\n",
    "import itertools\n",
    "EOS_ID = 3 # End of chapter/story token\n",
    "SOS_ID = 2 # Start of chapter/story\n",
    "UNK_ID = 1 # Unknown word (out of vocabulary)\n",
    "PAD_ID = 0 # \n",
    "#{PAD_ID:{PAD_ID:1}, EOS_ID:{PAD_ID:1}}\n",
    "\n",
    "def get_unigram_prob(text, target):\n",
    "    # Returns a dictionary whose keys are current words and values are\n",
    "    # dictionaries with possible next words and their probabilities\n",
    "    ti = time.time()\n",
    "    vocab = list(set(itertools.chain(*text)))\n",
    "    unigram_prob = dict((v, dict()) for v in vocab)\n",
    "    \n",
    "    for X,y in zip(text, target):\n",
    "        for i in range(len(X)):\n",
    "            w_x = X[i]\n",
    "            # If it's not an EOS token, count the next unigram\n",
    "            w_y = y[i]\n",
    "            if w_y == UNK_ID:\n",
    "                pass\n",
    "            else:                \n",
    "                if w_y not in unigram_prob[w_x].keys():\n",
    "                        unigram_prob[w_x][w_y] = 1\n",
    "                else:\n",
    "                    unigram_prob[w_x][w_y] += 1\n",
    "    #unigram_prob.update({PAD_ID:{PAD_ID:1}, EOS_ID:{PAD_ID:1}})\n",
    "    # We've got the frequencies, now normalise\n",
    "    for k in unigram_prob.keys():\n",
    "        norm = float(sum(unigram_prob[k].values()))\n",
    "        for kk, v in unigram_prob[k].items():\n",
    "            unigram_prob[k].update({kk: v/norm})\n",
    "    \n",
    "    print \"Calculating Unigram probabilities took {} seconds.\".format(time.time()-ti)\n",
    "    return unigram_prob\n",
    "unigram_test = get_unigram_prob([[SOS_ID, 5,6,7,8,9]],[[5,6,7,8,9,EOS_ID]])\n",
    "exp = {2: {5 : 1.}, 5: {6 : 1.},6: {7 : 1.0},7: {8 : 1.}, 8: {9 : 1.},9: {3 : 1.}}\n",
    "print \"EXPECTED = {}\".format(exp)\n",
    "print \"ACTUALS = {}\".format(unigram_test)\n",
    "for k in unigram_test.keys():\n",
    "    print k, unigram_test[k],exp[k]"
   ]
  },
  {
   "cell_type": "code",
   "execution_count": 99,
   "metadata": {
    "collapsed": false
   },
   "outputs": [
    {
     "name": "stdout",
     "output_type": "stream",
     "text": [
      "Calculating Unigram probabilities took 5.74447393417 seconds.\n"
     ]
    }
   ],
   "source": [
    "\n",
    "unigram_prob = get_unigram_prob(X_train, y_train)"
   ]
  },
  {
   "cell_type": "markdown",
   "metadata": {
    "deletable": true,
    "editable": true
   },
   "source": [
    "Using these probabilities, we can predict what the most likely word to come next would be..."
   ]
  },
  {
   "cell_type": "code",
   "execution_count": 100,
   "metadata": {
    "collapsed": false,
    "deletable": true,
    "editable": true
   },
   "outputs": [
    {
     "name": "stdout",
     "output_type": "stream",
     "text": [
      "Sample output with greedy argmax choice: \n",
      "<SOS> the king 's son , and the king 's son \n",
      "<SOS> the king 's son , and the king 's son \n",
      "<SOS> the king 's son , and the king 's son \n",
      "king\n"
     ]
    }
   ],
   "source": [
    "import operator\n",
    "from utils import ids_to_phrases\n",
    "def ids_to_phrases(idx_list, id_to_word, stop_IDs=[0,3]):\n",
    "    # Takes list of word ids and returns a string of words\n",
    "    # Mainly for use in analysis\n",
    "    phrase = u''\n",
    "    i=0\n",
    "    if len(idx_list)>0:\n",
    "        \"We want to ignore <EOS> unless it's the first element\"\n",
    "        while len(idx_list)>i and (i>=0) and (idx_list[i] not in stop_IDs):\n",
    "            phrase+= id_to_word[idx_list[i]]+u' '\n",
    "            i+=1\n",
    "    return phrase.encode(\"utf-8\")\n",
    "\n",
    "#print unigram_prob[2]\n",
    "def greedy_argmax(seq):\n",
    "    # Just chooses the most likely next word\n",
    "    current_id = seq[-1]\n",
    "    next_id = max(unigram_prob[current_id].iteritems(), key=operator.itemgetter(1))[0]\n",
    "    return next_id\n",
    "\n",
    "def sample_creator(f, start='<SOS>', length = 10):\n",
    "    sample = [word2id[start]]\n",
    "    for i in range(length):\n",
    "        sample.append(f(sample))\n",
    "    return sample\n",
    "\n",
    "print \"Sample output with greedy argmax choice: \"\n",
    "print '\\n'.join([ids_to_phrases(sample_creator(greedy_argmax), id2word) for i in range(3)])\n",
    "print id2word[(greedy_argmax([word2id['the']]))]"
   ]
  },
  {
   "cell_type": "markdown",
   "metadata": {
    "deletable": true,
    "editable": true
   },
   "source": [
    "Making greedy predictions (just choosing the most likely token) is a terrible idea. It makes for very boring sequences, dominated by `<UNK>` and common filler words. We would now like to choose words from a probability distribution of how likely they are."
   ]
  },
  {
   "cell_type": "code",
   "execution_count": 159,
   "metadata": {
    "collapsed": false,
    "deletable": true,
    "editable": true
   },
   "outputs": [
    {
     "name": "stdout",
     "output_type": "stream",
     "text": [
      "LIKELY SENTENCE BEGINNERS: \n",
      "king the the i there the in lullaby the the\n",
      "13\n"
     ]
    }
   ],
   "source": [
    "import random\n",
    "\n",
    "def weighted_choice(inner_dict):\n",
    "    \"\"\"items is a list of tuples in the form (item, weight)\"\"\"\n",
    "    n = random.uniform(0, 1)\n",
    "    for item, weight in inner_dict.items():\n",
    "        if n < weight:\n",
    "            return item\n",
    "        n = n - weight\n",
    "    try:\n",
    "        return item\n",
    "    except:\n",
    "        return random.randint(0,8000)\n",
    "\n",
    "s = [weighted_choice(unigram_prob[SOS_ID]) for s in range(10)]\n",
    "\n",
    "print \"LIKELY SENTENCE BEGINNERS: \\n\"+' '.join([id2word[i] for i in s])\n",
    "print word2id['``']"
   ]
  },
  {
   "cell_type": "code",
   "execution_count": 150,
   "metadata": {
    "collapsed": false,
    "deletable": true,
    "editable": true
   },
   "outputs": [
    {
     "name": "stdout",
     "output_type": "stream",
     "text": [
      "Sample text with greedy probabilistic choice: \n",
      "<SOS> tree , and at it for you must be happy \n",
      "<SOS> the old man who had plowed away to be married \n",
      "<SOS> the people , with mud the tree , the door \n",
      "<SOS> the princess . the cat , they can ride one \n",
      "<SOS> `` go as it mean that killed by , said \n",
      "<SOS> there 's room , and thought of the learned to \n",
      "<SOS> there was shining with her company tremble to-morrow ! ’ \n",
      "<SOS> there , and the man was amazed to destroy them \n",
      "<SOS> king 's treasury , and say kindly they resolved to \n",
      "<SOS> how are thoughtful never quite exhausted by the morning when \n"
     ]
    }
   ],
   "source": [
    "def unigram_greedy_sample(seq):\n",
    "    current_id = seq[-1]\n",
    "    next_id = weighted_choice(unigram_prob[current_id])\n",
    "    return next_id\n",
    "\n",
    "print \"Sample text with greedy probabilistic choice: \"\n",
    "print '\\n'.join([ids_to_phrases(sample_creator(unigram_greedy_sample), id2word) for i in range(10)])"
   ]
  },
  {
   "cell_type": "markdown",
   "metadata": {
    "deletable": true,
    "editable": true
   },
   "source": [
    "We can see, adding randomness to the choice algorithm improves the output substantially. We could see if this is improved further by using beam search, however, the core problem still remains that the sequences have no memory of their past beyond the previously generated token. This often leads to nonsensical text and it would be impossible for long-term dependencies to be expressed. \n",
    "\n",
    "We can improve this by using N-Gram probabilities. For example, choosing a value of N=2, we could build a dictionary whose keys are the two-word combinations which appear together in the text and whose values are sub-dictionaries of all the words which follow the bigrams and their respective probabilities. Then when making predictions on a current sequence, we check to see if there have been already been two words - if so, see if they form a recognised _bigram_ and find out which unigram to choose next. If not, just use the unigram method as before."
   ]
  },
  {
   "cell_type": "code",
   "execution_count": 151,
   "metadata": {
    "collapsed": false,
    "deletable": true,
    "editable": true
   },
   "outputs": [
    {
     "name": "stdout",
     "output_type": "stream",
     "text": [
      "2gram prob. dictionary 0.000 percent finished\n",
      "Calculating Ngram probabilities took 0.000908136367798 seconds.\n",
      "EXPECTED = {'6-7': {8: 1.0}, '5-6': {7: 1.0}, '7-8': {9: 1.0}, '8-9': {'3': 1.0}, '2-5': {6: 1.0}}\n",
      "Predicted = {'6-7': {8: 1.0}, '5-6': {7: 1.0}, '7-8': {9: 1.0}, '8-9': {3: 1.0}, '2-5': {6: 1.0}}\n"
     ]
    }
   ],
   "source": [
    "\n",
    "def get_Ngram_prob(text, target, N=2):\n",
    "    # Returns a dictionary whose keys are current words and values are\n",
    "    # dictionaries with possible next words and their probabilities\n",
    "    ti = time.time()\n",
    "    vocab = id2word.keys()\n",
    "    Ngrams = ['-'.join(str(ii) for ii in X[i:i+N]) for X,y in zip(text, target) for i in range(len(X)-N+1)]\n",
    "    \n",
    "    Ngram_prob = dict((ng, dict()) for ng in Ngrams)\n",
    "    count=0\n",
    "    for X,y in zip(text, target):\n",
    "        if count%100==0:\n",
    "            print \"{}gram prob. dictionary {:0.3f} percent finished\".format(N, (float(count)/len(text))*100)\n",
    "        count +=1\n",
    "        for i in range(len(X)-N+1):\n",
    "            w_x = '-'.join(str(ii) for ii in X[i:i+N])\n",
    "            # If it's not an EOS token, count the next unigram\n",
    "            w_y = y[i+N-1]\n",
    "            if w_y == UNK_ID:\n",
    "                pass\n",
    "            else:\n",
    "                if w_y not in Ngram_prob[w_x].keys():\n",
    "                    Ngram_prob[w_x][w_y] = 1\n",
    "                else:\n",
    "                    Ngram_prob[w_x][w_y] += 1\n",
    "    # We've got the frequencies, now normalise\n",
    "    for k in Ngram_prob.keys():\n",
    "        norm = float(sum(Ngram_prob[k].values()))\n",
    "        for kk, v in Ngram_prob[k].items():\n",
    "            Ngram_prob[k].update({kk: v/norm})\n",
    "    print \"Calculating Ngram probabilities took {} seconds.\".format(time.time()-ti)\n",
    "    return Ngram_prob\n",
    "\"\"\"\n",
    "def Ngram_prob(text, N):\n",
    "    # Returns a dictionary whose keys are current words and values are\n",
    "    # dictionaries with possible next words and their probabilities\n",
    "    ti = time.time()\n",
    "    Ngram_prob = dict()\n",
    "    count = 0.\n",
    "    for seq in text:\n",
    "        if count%100==0:\n",
    "            print \"{}gram prob. dictionary {} percent finished\".format(N, (count/len(text))*100)\n",
    "        count +=1\n",
    "        # len(seq)-N because we only want to check up to the final word\n",
    "        for i in range(len(seq)-N):\n",
    "            # what are the N next words?\n",
    "            w_t = '-'.join(str(ii) for ii in seq[i:i+N])\n",
    "            # If it's not an EOS token, count the next unigram\n",
    "            try:\n",
    "                # What is the word after the N next words?\n",
    "                w_tt = seq[i+N]\n",
    "                if w_t not in Ngram_prob.keys():\n",
    "                    Ngram_prob[w_t] = {w_tt: 1}\n",
    "                else:\n",
    "                    if w_tt != 2:\n",
    "                        if w_tt not in Ngram_prob[w_t].keys():\n",
    "                                Ngram_prob[w_t][w_tt] = 1\n",
    "                        else:\n",
    "                            Ngram_prob[w_t][w_tt] += 1\n",
    "            except IndexError:\n",
    "                Ngram_prob[w_t] ={PAD_ID: 1}\n",
    "    # We've got the frequencies, now normalise\n",
    "    for k in Ngram_prob.keys():\n",
    "        norm = float(sum(Ngram_prob[k].values()))\n",
    "        for kk, v in Ngram_prob[k].items():\n",
    "            Ngram_prob[k].update({kk: v/norm})\n",
    "    print \"Calculating {}gram probabilities took {} seconds.\".format(N, time.time()-ti)\n",
    "    return Ngram_prob\n",
    "\"\"\"\n",
    "bigram_test = get_Ngram_prob([[SOS_ID, 5,6,7,8,9]],[[5,6,7,8,9,EOS_ID]], N=2)\n",
    "exp = {str(SOS_ID)+'-5': {6 : 1.}, '5-6': {7 : 1.},'6-7': {8 : 1.0},'7-8': {9 : 1.0},'8-9': {str(EOS_ID) : 1.}}\n",
    "print \"EXPECTED = {}\".format(exp)\n",
    "print \"Predicted = {}\".format(bigram_test)"
   ]
  },
  {
   "cell_type": "code",
   "execution_count": 152,
   "metadata": {
    "collapsed": false
   },
   "outputs": [
    {
     "name": "stdout",
     "output_type": "stream",
     "text": [
      "2gram prob. dictionary 0.000 percent finished\n",
      "2gram prob. dictionary 21.053 percent finished\n",
      "2gram prob. dictionary 42.105 percent finished\n",
      "2gram prob. dictionary 63.158 percent finished\n",
      "2gram prob. dictionary 84.211 percent finished\n",
      "Calculating Ngram probabilities took 5.70813703537 seconds.\n"
     ]
    }
   ],
   "source": [
    "bigram_prob = get_Ngram_prob(X_train, y_train, N=2)"
   ]
  },
  {
   "cell_type": "code",
   "execution_count": 153,
   "metadata": {
    "collapsed": false,
    "deletable": true,
    "editable": true
   },
   "outputs": [
    {
     "data": {
      "text/plain": [
       "17"
      ]
     },
     "execution_count": 153,
     "metadata": {},
     "output_type": "execute_result"
    }
   ],
   "source": [
    "\n",
    "def bigram_greedy_sample(seq):\n",
    "    # seq will be a variable list of integers\n",
    "    inner_dict = 0\n",
    "    try:\n",
    "        w_t = '-'.join(str(ii) for ii in seq[-2::])\n",
    "        out = bigram_prob[w_t]\n",
    "    except:\n",
    "        out = unigram_prob[seq[-1]]\n",
    "    next_id = weighted_choice(out)    \n",
    "    return next_id\n",
    "\n",
    "bigram_greedy_sample([4,5,6,7,8])\n"
   ]
  },
  {
   "cell_type": "code",
   "execution_count": 154,
   "metadata": {
    "collapsed": false
   },
   "outputs": [
    {
     "name": "stdout",
     "output_type": "stream",
     "text": [
      "\n",
      " BIGRAMS\n",
      "<SOS> there lived in the morning , stitching away . it \n",
      "<SOS> hearing these words , nor break the lines . a \n",
      "<SOS> the death of cormoran , jack put the house by \n",
      "<SOS> a tailor ? ' said the eldest leading the way \n",
      "<SOS> sweet and sour beer . '' and then two eyes \n",
      "<SOS> king grisly-beard , ' said the carp touched the old \n",
      "<SOS> `` please , my mabel , this new-made pat of \n",
      "<SOS> the boy came down and there a long time . \n",
      "<SOS> a good way and seeing himself suddenly surrounded by a \n",
      "<SOS> the white one fluttered on to his majesty , with \n"
     ]
    }
   ],
   "source": [
    "print \"\\n BIGRAMS\"\n",
    "print '\\n'.join([ids_to_phrases(sample_creator(bigram_greedy_sample), id2word) for i in range(10)])"
   ]
  },
  {
   "cell_type": "markdown",
   "metadata": {
    "deletable": true,
    "editable": true
   },
   "source": [
    "Calculating the Bigram probability distributions seems to have been worth it. The generated text is far more fluent now, but still a bit fragmented. Quotation marks, which are denoted by \"``\", are often opened or closed but rarely both - due to the lack of memory in the model.\n",
    "\n",
    "Quite amazingly some short sequences make complete sense such as \"the fox led the goat with a dignified air . \" which I think is a beautiful sentence."
   ]
  },
  {
   "cell_type": "code",
   "execution_count": 155,
   "metadata": {
    "collapsed": false,
    "deletable": true,
    "editable": true
   },
   "outputs": [
    {
     "name": "stdout",
     "output_type": "stream",
     "text": [
      "3gram prob. dictionary 0.000 percent finished\n",
      "Calculating Ngram probabilities took 0.000842094421387 seconds.\n",
      "EXPECTED = {'2-5-6': {7: 1.0}, '7-8-9': {'3': 1.0}, '6-7-8': {9: 1.0}, '5-6-7': {8: 1.0}}\n",
      "Predicted = {'2-5-6': {7: 1.0}, '7-8-9': {3: 1.0}, '6-7-8': {9: 1.0}, '5-6-7': {8: 1.0}}\n",
      "3gram prob. dictionary 0.000 percent finished\n",
      "3gram prob. dictionary 21.053 percent finished\n",
      "3gram prob. dictionary 42.105 percent finished\n",
      "3gram prob. dictionary 63.158 percent finished\n",
      "3gram prob. dictionary 84.211 percent finished\n",
      "Calculating Ngram probabilities took 5.86414599419 seconds.\n"
     ]
    }
   ],
   "source": [
    "trigram_test = get_Ngram_prob([[SOS_ID, 5,6,7,8,9]],[[5,6,7,8,9,EOS_ID]], N=3)\n",
    "exp = {str(SOS_ID)+'-5-6': {7 : 1.}, '5-6-7': {8 : 1.},'6-7-8': {9 : 1.0},'7-8-9': {str(EOS_ID) : 1.}}\n",
    "print \"EXPECTED = {}\".format(exp)\n",
    "print \"Predicted = {}\".format(trigram_test)\n",
    "\n",
    "trigram_prob = get_Ngram_prob(X_train,y_train, N=3)\n",
    "\n",
    "\n"
   ]
  },
  {
   "cell_type": "code",
   "execution_count": 161,
   "metadata": {
    "collapsed": false
   },
   "outputs": [
    {
     "name": "stdout",
     "output_type": "stream",
     "text": [
      "\n",
      "TRIGRAMS\n",
      "2\n",
      "2\n",
      "2\n",
      "2\n",
      "2\n",
      "2\n",
      "2\n",
      "2\n",
      "2\n",
      "2\n",
      "3664\n",
      "2\n",
      "2\n",
      "2\n",
      "2\n",
      "2\n",
      "6764\n",
      "2\n",
      "2\n",
      "4736\n",
      "2\n",
      "2\n",
      "2\n",
      "6307\n",
      "<SOS> `` arise , for the sake of picciola he would do . but i know you will not want to \n",
      "<SOS> cat-skin there was once upon a time , another woman arose and said , 'this lady is dancing with me \n",
      "<SOS> pinocchio set out and as frederick walked the fastest , he left his master , who the next morning the \n",
      "<SOS> and when he had drawn from the instrument . the little tailor . 'do you stay behind , ' said \n",
      "<SOS> a man and quite as broad . of all the palace , where he left her , she will change \n",
      "<SOS> androcles a slave named androcles once escaped from his master 's bidding . he was too frightened . but she \n",
      "<SOS> the lost doll i once had a sweet little doll , dears , as i am . '' `` ah \n",
      "<SOS> once upon a time a queen to whom god had given no children . the children watched it and saw \n",
      "<SOS> there was once a shoemaker , who worked very hard and was very beautiful and her mother loved her dearly \n",
      "<SOS> sweetheart roland there was once upon a time there was a poor puppet , and making a most mischievous busybody \n",
      "<SOS> there was once a darning needle laughs . there she sat , as proud as if she had expected him \n",
      "<SOS> one day the giant came up to her . `` oh , great singh rajah , we all know you \n",
      "<SOS> once the fox and the horse , or look after the house a maid had to be under her rule \n",
      "<SOS> it was a terrible passage ! he put his hand in whatever was going forward . to carry out his \n",
      "<SOS> the cock and the pearl a cock was once handsomer than she was held fast . at last he stopped \n",
      "<SOS> there was once a woman who was thin and old . she would not leave him alone , and they \n",
      "<SOS> baby-land which is the stronger nor dales , and rocks , away be it whirl'd till the silvery locks are \n",
      "<SOS> there was never before seen such a palace during his absence worth the travellers would be so nice . `` \n",
      "<SOS> the raven there was once a rich old man whom she never saw . and now the roman army ? \n",
      "<SOS> in the days of the great hall , and rich quit my kingdom without carrying with me some of this \n"
     ]
    }
   ],
   "source": [
    "def trigram_greedy_pred(seq):\n",
    "    # seq will be a variable list of integers\n",
    "    inner_dict = 0\n",
    "    out = 0\n",
    "    if len(seq)>0:\n",
    "        try:\n",
    "            # Try to find a trigram\n",
    "            w_t = '-'.join(str(ii) for ii in seq[-3::])\n",
    "            out = trigram_prob[w_t]\n",
    "        except:\n",
    "            try:\n",
    "                w_t = '-'.join(str(ii) for ii in seq[-2::])\n",
    "                out = bigram_prob[w_t]\n",
    "            except:\n",
    "                print seq[-1]\n",
    "                out = unigram_prob[seq[-1]]\n",
    "        next_id = weighted_choice(out)    \n",
    "        return next_id\n",
    "    else:\n",
    "        return SOS_ID\n",
    "\n",
    "print \"\\nTRIGRAMS\"\n",
    "print '\\n'.join([ids_to_phrases(sample_creator(trigram_greedy_pred, length = 20), id2word) for i in range(20)])"
   ]
  },
  {
   "cell_type": "code",
   "execution_count": null,
   "metadata": {
    "collapsed": true,
    "deletable": true,
    "editable": true
   },
   "outputs": [],
   "source": []
  },
  {
   "cell_type": "code",
   "execution_count": null,
   "metadata": {
    "collapsed": true
   },
   "outputs": [],
   "source": []
  },
  {
   "cell_type": "code",
   "execution_count": null,
   "metadata": {
    "collapsed": true
   },
   "outputs": [],
   "source": []
  },
  {
   "cell_type": "code",
   "execution_count": null,
   "metadata": {
    "collapsed": true
   },
   "outputs": [],
   "source": []
  }
 ],
 "metadata": {
  "kernelspec": {
   "display_name": "Python 2",
   "language": "python",
   "name": "python2"
  },
  "language_info": {
   "codemirror_mode": {
    "name": "ipython",
    "version": 2
   },
   "file_extension": ".py",
   "mimetype": "text/x-python",
   "name": "python",
   "nbconvert_exporter": "python",
   "pygments_lexer": "ipython2",
   "version": "2.7.12"
  }
 },
 "nbformat": 4,
 "nbformat_minor": 2
}
